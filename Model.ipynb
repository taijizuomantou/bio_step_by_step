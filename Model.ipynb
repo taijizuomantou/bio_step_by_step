{
 "cells": [
  {
   "cell_type": "code",
   "execution_count": 1,
   "metadata": {},
   "outputs": [
    {
     "data": {
      "text/plain": [
       "<torch._C.Generator at 0x7f7a5b3e79d0>"
      ]
     },
     "execution_count": 1,
     "metadata": {},
     "output_type": "execute_result"
    }
   ],
   "source": [
    "import torch\n",
    "import torch.tensor\n",
    "import torch.nn as nn\n",
    "import torch.nn.functional as F\n",
    "import torch.nn.functional as F\n",
    "import torch.optim as optim\n",
    "import numpy as np\n",
    "import torch.utils.data as Data\n",
    "torch.manual_seed(1)"
   ]
  },
  {
   "cell_type": "code",
   "execution_count": 2,
   "metadata": {},
   "outputs": [],
   "source": [
    "VOCAB_SIZE = 4346\n",
    "EMBEDDING_SIZE = 200\n",
    "HIDDEN_SIZE = 200\n",
    "TARGET_SIZE = 2\n",
    "SENTENCE_LEN = 103\n",
    "BATCH_SIZE = 64"
   ]
  },
  {
   "cell_type": "code",
   "execution_count": null,
   "metadata": {},
   "outputs": [],
   "source": []
  },
  {
   "cell_type": "code",
   "execution_count": 3,
   "metadata": {},
   "outputs": [],
   "source": [
    "def get_myembed():\n",
    "    myembed = []\n",
    "    with open(\"new_vector.txt\",\"r\") as f:\n",
    "        for line in f:\n",
    "            words = line.split()\n",
    "            for word in words:\n",
    "                myembed.append(float(word))\n",
    "    for i in range(EMBEDDING_SIZE):myembed.append(0)\n",
    "    myembed = np.array(myembed)\n",
    "    myembed = myembed.reshape((VOCAB_SIZE,EMBEDDING_SIZE))\n",
    "    myembed = torch.from_numpy(myembed)\n",
    "    return myembed"
   ]
  },
  {
   "cell_type": "code",
   "execution_count": 4,
   "metadata": {},
   "outputs": [],
   "source": [
    "class SimpleLSTM(nn.Module):\n",
    "    def __init__(self,vocab_size,embedding_size,hidden_size,target_size):\n",
    "        super(SimpleLSTM,self).__init__()\n",
    "        self.embed = nn.Embedding(vocab_size,embedding_size,padding_idx = 4345)\n",
    "        self.lstm = nn.LSTM(embedding_size,hidden_size,batch_first = True)\n",
    "        self.linear = nn.Linear(hidden_size,target_size)\n",
    "        self.dropout = nn.Dropout(p=0.5)\n",
    "        self.init_embed()\n",
    "    def init_embed(self):\n",
    "        self.embed.weight.data.copy_(get_myembed())\n",
    "    def forward(self,sentence):\n",
    "        myembed = self.embed(sentence)\n",
    "        output,(hidden,c) = self.lstm(myembed.view(-1,SENTENCE_LEN,EMBEDDING_SIZE))\n",
    "        \n",
    "        predict = self.linear((output[:,-1,:].view(-1,HIDDEN_SIZE)))\n",
    "        return predict        "
   ]
  },
  {
   "cell_type": "code",
   "execution_count": 5,
   "metadata": {},
   "outputs": [],
   "source": [
    "def load_data():\n",
    "    origin_y = []\n",
    "    with open(\"input_label.txt\",\"r\") as f:\n",
    "        for line in f:\n",
    "            origin_y.append(int(line))\n",
    "    origin_x = []\n",
    "    with open(\"input_pad.txt\",\"r\") as f:\n",
    "        for line in f:\n",
    "            words = line.split()\n",
    "            assert len(words) == SENTENCE_LEN,\"sentence pad\"\n",
    "            for word in words:\n",
    "                origin_x.append(int(word))\n",
    "    numpx = np.array(origin_x)\n",
    "    numpx = numpx.reshape(-1,SENTENCE_LEN)\n",
    "    x = torch.from_numpy(numpx)   \n",
    "    numpy = np.array(origin_y)\n",
    "    y = torch.from_numpy(numpy)\n",
    "    return x,y"
   ]
  },
  {
   "cell_type": "code",
   "execution_count": 6,
   "metadata": {},
   "outputs": [],
   "source": [
    "def evaluate(predict,y):\n",
    "    global tp \n",
    "    global fp \n",
    "    global fn\n",
    "    tp += torch.masked_select(mask = y.byte(),input = predict).sum().cpu()\n",
    "    fp += torch.masked_select(mask =~y.byte(),input = predict).sum().cpu()\n",
    "    fn += torch.masked_select(mask =y.byte(),input = ~predict.byte()).sum().cpu()"
   ]
  },
  {
   "cell_type": "code",
   "execution_count": 7,
   "metadata": {},
   "outputs": [],
   "source": [
    "tp = 0\n",
    "fp = 0\n",
    "fn = 0\n",
    "predict = np.array([0,1,0,0,1,1,1])\n",
    "y = np.array      ([1,0,1,1,0,0,0])\n",
    "predict = torch.from_numpy(predict)\n",
    "y = torch.from_numpy(y)\n",
    "evaluate(predict,y)\n"
   ]
  },
  {
   "cell_type": "code",
   "execution_count": 8,
   "metadata": {},
   "outputs": [],
   "source": [
    "def whole_eval():\n",
    "    precision = tp.float() / (tp.float() + fp.float())\n",
    "    recall = tp.float() / (tp.float() + fn.float())\n",
    "    print(precision)\n",
    "    print(recall)\n",
    "    f1 = 2 * precision * recall / (precision + recall)\n",
    "    return f1\n",
    "            "
   ]
  },
  {
   "cell_type": "code",
   "execution_count": 45,
   "metadata": {},
   "outputs": [],
   "source": [
    "\n",
    "x,y = load_data()\n"
   ]
  },
  {
   "cell_type": "code",
   "execution_count": 10,
   "metadata": {},
   "outputs": [],
   "source": [
    "\n",
    "from collections import Counter\n",
    "\n",
    "import numpy as np\n",
    "\n",
    "\n",
    "from sklearn.datasets import load_iris\n",
    "\n",
    "from imblearn.datasets import make_imbalance\n",
    "\n",
    "from imblearn.over_sampling import RandomOverSampler\n",
    "from imblearn.under_sampling import RandomUnderSampler\n",
    "from imblearn.under_sampling import TomekLinks"
   ]
  },
  {
   "cell_type": "code",
   "execution_count": 11,
   "metadata": {},
   "outputs": [
    {
     "name": "stdout",
     "output_type": "stream",
     "text": [
      "[[1502 3955 3396 ... 4345 4345 4345]\n",
      " [2918 1101 3966 ... 4345 4345 4345]\n",
      " [3994 3075 4345 ... 4345 4345 4345]\n",
      " ...\n",
      " [4345 4345 1548 ... 4345 4345 4345]\n",
      " [1019 2875 1501 ... 4345 4345 4345]\n",
      " [1502 3955 3465 ... 4345 4345 4345]] [0 0 0 ... 1 1 1]\n"
     ]
    }
   ],
   "source": [
    "sampling_strategy = {0: 4021, 1: 4021}\n",
    "bx,by = make_imbalance(x, y,sampling_strategy=sampling_strategy)\n",
    "print(bx,by)\n",
    "bx = torch.from_numpy(bx)\n",
    "by = torch.from_numpy(by)"
   ]
  },
  {
   "cell_type": "code",
   "execution_count": null,
   "metadata": {},
   "outputs": [],
   "source": []
  },
  {
   "cell_type": "code",
   "execution_count": 12,
   "metadata": {},
   "outputs": [
    {
     "name": "stdout",
     "output_type": "stream",
     "text": [
      "(47542, 103)\n",
      "(47542,)\n"
     ]
    }
   ],
   "source": [
    "\n",
    "sampling_strategy = 'not majority'\n",
    "\n",
    "ros = RandomOverSampler(sampling_strategy=sampling_strategy)\n",
    "X_res, y_res = ros.fit_resample(x, y)\n",
    "print(X_res.shape)\n",
    "print(y_res.shape)\n",
    "X_res = torch.from_numpy(X_res)\n",
    "y_res = torch.from_numpy(y_res)"
   ]
  },
  {
   "cell_type": "code",
   "execution_count": 46,
   "metadata": {},
   "outputs": [
    {
     "name": "stdout",
     "output_type": "stream",
     "text": [
      "23771\n",
      "27792\n"
     ]
    }
   ],
   "source": [
    "print(y_res.numpy().sum())\n",
    "print(len(x))\n",
    "torch_dataset = Data.TensorDataset(x,y)\n",
    "#torch_dataset = Data.TensorDataset(x,y)\n",
    "loader = Data.DataLoader(\n",
    "    dataset = torch_dataset,\n",
    "    batch_size = BATCH_SIZE,\n",
    "    shuffle = True,\n",
    "    num_workers = 2\n",
    ")"
   ]
  },
  {
   "cell_type": "code",
   "execution_count": 47,
   "metadata": {},
   "outputs": [],
   "source": [
    "\n",
    "mynet = SimpleLSTM(VOCAB_SIZE,EMBEDDING_SIZE,HIDDEN_SIZE,TARGET_SIZE)\n",
    "mynet.cuda()\n",
    "loss_function = nn.CrossEntropyLoss()\n",
    "optimizer = optim.Adam(mynet.parameters(), lr=0.01)\n",
    "\n",
    "\n"
   ]
  },
  {
   "cell_type": "code",
   "execution_count": 15,
   "metadata": {},
   "outputs": [
    {
     "name": "stdout",
     "output_type": "stream",
     "text": [
      "tensor([ 0,  0,  0,  ...,  1,  1,  1])\n"
     ]
    }
   ],
   "source": [
    "print(by)"
   ]
  },
  {
   "cell_type": "code",
   "execution_count": 59,
   "metadata": {},
   "outputs": [
    {
     "name": "stdout",
     "output_type": "stream",
     "text": [
      "435\n",
      "tensor(2125, device='cuda:0')\n",
      "tensor(3424, device='cuda:0')\n",
      "tensor(81.9255, device='cuda:0')\n",
      "---------------\n",
      "tensor(2660)\n",
      "tensor(764)\n",
      "tensor(1361)\n",
      "!!!!!!!!!!!!!!!!!!!\n",
      "435\n",
      "tensor(2211, device='cuda:0')\n",
      "tensor(3408, device='cuda:0')\n",
      "tensor(83.3869, device='cuda:0')\n",
      "---------------\n",
      "tensor(2609)\n",
      "tensor(799)\n",
      "tensor(1412)\n",
      "!!!!!!!!!!!!!!!!!!!\n",
      "435\n",
      "tensor(2162, device='cuda:0')\n",
      "tensor(3397, device='cuda:0')\n",
      "tensor(80.2593, device='cuda:0')\n",
      "---------------\n",
      "tensor(2628)\n",
      "tensor(769)\n",
      "tensor(1393)\n",
      "!!!!!!!!!!!!!!!!!!!\n",
      "435\n",
      "tensor(2149, device='cuda:0')\n",
      "tensor(3428, device='cuda:0')\n",
      "tensor(80.2047, device='cuda:0')\n",
      "---------------\n",
      "tensor(2650)\n",
      "tensor(778)\n",
      "tensor(1371)\n",
      "!!!!!!!!!!!!!!!!!!!\n",
      "435\n",
      "tensor(2132, device='cuda:0')\n",
      "tensor(3365, device='cuda:0')\n",
      "tensor(81.3907, device='cuda:0')\n",
      "---------------\n",
      "tensor(2627)\n",
      "tensor(738)\n",
      "tensor(1394)\n",
      "!!!!!!!!!!!!!!!!!!!\n",
      "435\n",
      "tensor(2179, device='cuda:0')\n",
      "tensor(3404, device='cuda:0')\n",
      "tensor(82.0788, device='cuda:0')\n",
      "---------------\n",
      "tensor(2623)\n",
      "tensor(781)\n",
      "tensor(1398)\n",
      "!!!!!!!!!!!!!!!!!!!\n",
      "435\n",
      "tensor(2141, device='cuda:0')\n",
      "tensor(3402, device='cuda:0')\n",
      "tensor(82.0200, device='cuda:0')\n",
      "---------------\n",
      "tensor(2641)\n",
      "tensor(761)\n",
      "tensor(1380)\n",
      "!!!!!!!!!!!!!!!!!!!\n",
      "435\n",
      "tensor(2124, device='cuda:0')\n",
      "tensor(3359, device='cuda:0')\n",
      "tensor(81.2627, device='cuda:0')\n",
      "---------------\n",
      "tensor(2628)\n",
      "tensor(731)\n",
      "tensor(1393)\n",
      "!!!!!!!!!!!!!!!!!!!\n",
      "435\n",
      "tensor(2173, device='cuda:0')\n",
      "tensor(3324, device='cuda:0')\n",
      "tensor(81.0596, device='cuda:0')\n",
      "---------------\n",
      "tensor(2586)\n",
      "tensor(738)\n",
      "tensor(1435)\n",
      "!!!!!!!!!!!!!!!!!!!\n",
      "435\n",
      "tensor(2134, device='cuda:0')\n",
      "tensor(3377, device='cuda:0')\n",
      "tensor(81.1017, device='cuda:0')\n",
      "---------------\n",
      "tensor(2632)\n",
      "tensor(745)\n",
      "tensor(1389)\n",
      "!!!!!!!!!!!!!!!!!!!\n"
     ]
    }
   ],
   "source": [
    "\n",
    "his_loss = []\n",
    "wrongnum = 0\n",
    "totalone = 0\n",
    "for epoch in range(10):\n",
    "    tp = 0\n",
    "    fp = 0\n",
    "    fn = 0\n",
    "    wrongnum = 0\n",
    "    totalone = 0\n",
    "    whole_loss = 0.0\n",
    "    print(len(loader))\n",
    "    for step,(batch_x,batch_y)in enumerate(loader):\n",
    "        #if(step % 100) == 0:print(step)\n",
    "        #print(batch_x.shape)\n",
    "        out = mynet(batch_x.cuda())\n",
    "        pred = torch.max(F.softmax(out,dim = 1),1)[1]\n",
    "        wrongnum += torch.sum(pred != batch_y.cuda())\n",
    "        totalone += torch.sum(pred)\n",
    "        loss = loss_function(out,batch_y.cuda())\n",
    "        evaluate(pred.cuda(),batch_y.cuda())\n",
    "        whole_loss += loss\n",
    "        optimizer.zero_grad()\n",
    "        loss.backward()\n",
    "        optimizer.step()\n",
    "    print(wrongnum)\n",
    "    print(totalone)\n",
    "    print(whole_loss)\n",
    "    his_loss.append(whole_loss)\n",
    "    print(\"---------------\")\n",
    "    print(tp)\n",
    "    print(fp)\n",
    "    print(fn)\n",
    "    print(\"!!!!!!!!!!!!!!!!!!!\")\n",
    "    #print(pred)\n",
    "    #print(loss)"
   ]
  },
  {
   "cell_type": "code",
   "execution_count": 40,
   "metadata": {},
   "outputs": [
    {
     "name": "stdout",
     "output_type": "stream",
     "text": [
      "0\n",
      "100\n",
      "200\n",
      "300\n",
      "400\n"
     ]
    }
   ],
   "source": [
    "tp = 0\n",
    "fp = 0\n",
    "fn = 0\n",
    "wrongnum = 0\n",
    "totalone = 0\n",
    "for step,(batch_x,batch_y)in enumerate(loader):\n",
    "        if(step % 100) == 0:print(step)\n",
    "        out = mynet(batch_x.cuda())\n",
    "        pred = torch.max(F.softmax(out,dim = 1),1)[1]\n",
    "        #print(pred)\n",
    "        #print(batch_y)\n",
    "        evaluate(pred.cuda(),batch_y.cuda())\n",
    "        wrongnum += torch.sum(pred != batch_y.cuda())\n",
    "        totalone += torch.sum(pred)"
   ]
  },
  {
   "cell_type": "code",
   "execution_count": 58,
   "metadata": {},
   "outputs": [
    {
     "name": "stdout",
     "output_type": "stream",
     "text": [
      "[tensor(90.1833, device='cuda:0'), tensor(90.5938, device='cuda:0'), tensor(88.6918, device='cuda:0'), tensor(87.2920, device='cuda:0'), tensor(86.2437, device='cuda:0'), tensor(86.8085, device='cuda:0'), tensor(83.9423, device='cuda:0'), tensor(83.7342, device='cuda:0'), tensor(84.8563, device='cuda:0'), tensor(84.1593, device='cuda:0')]\n",
      "tensor(2248, device='cuda:0')\n",
      "tensor(3363, device='cuda:0')\n"
     ]
    }
   ],
   "source": [
    "print(his_loss)\n",
    "print(wrongnum)\n",
    "print(totalone)"
   ]
  },
  {
   "cell_type": "code",
   "execution_count": 56,
   "metadata": {},
   "outputs": [
    {
     "name": "stdout",
     "output_type": "stream",
     "text": [
      "tensor(2568)\n",
      "tensor(795)\n",
      "tensor(1453)\n"
     ]
    }
   ],
   "source": [
    "print(tp)\n",
    "print(fp)\n",
    "print(fn)"
   ]
  },
  {
   "cell_type": "code",
   "execution_count": 60,
   "metadata": {},
   "outputs": [
    {
     "name": "stdout",
     "output_type": "stream",
     "text": [
      "tensor(0.7794)\n",
      "tensor(0.6546)\n"
     ]
    },
    {
     "data": {
      "text/plain": [
       "tensor(0.7115)"
      ]
     },
     "execution_count": 60,
     "metadata": {},
     "output_type": "execute_result"
    }
   ],
   "source": [
    "whole_eval()"
   ]
  }
 ],
 "metadata": {
  "kernelspec": {
   "display_name": "Python 3",
   "language": "python",
   "name": "python3"
  },
  "language_info": {
   "codemirror_mode": {
    "name": "ipython",
    "version": 3
   },
   "file_extension": ".py",
   "mimetype": "text/x-python",
   "name": "python",
   "nbconvert_exporter": "python",
   "pygments_lexer": "ipython3",
   "version": "3.6.8"
  }
 },
 "nbformat": 4,
 "nbformat_minor": 2
}
