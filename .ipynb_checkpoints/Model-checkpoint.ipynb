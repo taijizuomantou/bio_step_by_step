{
 "cells": [
  {
   "cell_type": "code",
   "execution_count": 2,
   "metadata": {},
   "outputs": [
    {
     "data": {
      "text/plain": [
       "<torch._C.Generator at 0x7f1a6f704a10>"
      ]
     },
     "execution_count": 2,
     "metadata": {},
     "output_type": "execute_result"
    }
   ],
   "source": [
    "import torch\n",
    "import torch.tensor\n",
    "import torch.nn as nn\n",
    "import torch.nn.functional as F\n",
    "import torch.nn.functional as F\n",
    "import torch.optim as optim\n",
    "import numpy as np\n",
    "from torch.autograd import Variable\n",
    "import torch.utils.data as Data\n",
    "torch.manual_seed(1)"
   ]
  },
  {
   "cell_type": "code",
   "execution_count": 3,
   "metadata": {},
   "outputs": [],
   "source": [
    "VOCAB_SIZE = 4879\n",
    "EMBEDDING_SIZE = 200\n",
    "HIDDEN_SIZE = 200\n",
    "TARGET_SIZE = 2\n",
    "SENTENCE_LEN = 155\n",
    "BATCH_SIZE = 128\n",
    "POSITION_SIZE = 301"
   ]
  },
  {
   "cell_type": "code",
   "execution_count": 82,
   "metadata": {},
   "outputs": [],
   "source": [
    "def get_myembed():\n",
    "    myembed = []\n",
    "    with open(\"word_vector.txt\",\"r\") as f:\n",
    "        for line in f:\n",
    "            words = line.split()\n",
    "            for word in words:\n",
    "                myembed.append(float(word))\n",
    "    for i in range(EMBEDDING_SIZE):myembed.append(0)\n",
    "    myembed = np.array(myembed)\n",
    "    myembed = myembed.reshape((VOCAB_SIZE,EMBEDDING_SIZE))\n",
    "    myembed = torch.from_numpy(myembed)\n",
    "    return myembed"
   ]
  },
  {
   "cell_type": "code",
   "execution_count": 111,
   "metadata": {},
   "outputs": [
    {
     "name": "stdout",
     "output_type": "stream",
     "text": [
      "torch.Size([4879, 200])\n"
     ]
    }
   ],
   "source": [
    "print(get_myembed().shape)"
   ]
  },
  {
   "cell_type": "code",
   "execution_count": 277,
   "metadata": {},
   "outputs": [],
   "source": [
    "def get_posembed(typee):\n",
    "    posembedA = []\n",
    "    with open(typee+\"_pos_A.txt\",\"r\") as f:\n",
    "        for line in f:\n",
    "            words = line.split()\n",
    "            temp = []\n",
    "            for word in words:\n",
    "                if(int(word) == 1000):word = 300\n",
    "                if(int(word) == 152):word = 300\n",
    "                temp.append(int(word))\n",
    "            posembedA.append(temp)\n",
    "    posembedB = []\n",
    "    with open(typee +\"_pos_B.txt\",\"r\") as f:\n",
    "        for line in f:\n",
    "            words = line.split()\n",
    "            temp = []\n",
    "            for word in words:\n",
    "                if(int(word) == 1000):word = 300\n",
    "                if(int(word) == 152):word = 300\n",
    "                temp.append(int(word))\n",
    "            posembedB.append(temp)\n",
    "    return posembedA,posembedB\n",
    "            "
   ]
  },
  {
   "cell_type": "code",
   "execution_count": 6,
   "metadata": {},
   "outputs": [],
   "source": [
    "ansa,ansb = get_posembed(\"train\")\n"
   ]
  },
  {
   "cell_type": "code",
   "execution_count": 278,
   "metadata": {},
   "outputs": [],
   "source": [
    "\n",
    "\n",
    "def position_encoding_init(n_position, emb_dim):\n",
    "    ''' Init the sinusoid position encoding table '''\n",
    "    \n",
    "    # keep dim 0 for padding token position encoding zero vector\n",
    "    position_enc = np.array([\n",
    "        [pos / np.power(10000, 2 * (j // 2) / emb_dim) for j in range(emb_dim)]\n",
    "        if pos != 0 else np.zeros(emb_dim) for pos in range(n_position)])\n",
    "    \n",
    "\n",
    "    position_enc[1:, 0::2] = np.sin(position_enc[1:, 0::2]) # dim 2i\n",
    "    position_enc[1:, 1::2] = np.cos(position_enc[1:, 1::2]) # dim 2i+1\n",
    "    \n",
    "   # position_enc = np.random.rand(n_position,emb_dim)\n",
    "    return torch.from_numpy(position_enc).float()\n"
   ]
  },
  {
   "cell_type": "code",
   "execution_count": 279,
   "metadata": {},
   "outputs": [],
   "source": [
    "def get_sinusoid_encoding_table(n_position, d_hid):\n",
    "    ''' Sinusoid position encoding table '''\n",
    "\n",
    "    def cal_angle(position, hid_idx):\n",
    "        return position / np.power(10000, 2 * (hid_idx // 2) / d_hid)\n",
    "\n",
    "    def get_posi_angle_vec(position):\n",
    "        return [cal_angle(position, hid_j) for hid_j in range(d_hid)]\n",
    "\n",
    "    sinusoid_table = np.array([get_posi_angle_vec(pos_i - 152) for pos_i in range(n_position)])\n",
    "\n",
    "    sinusoid_table[:, 0::2] = np.sin(sinusoid_table[:, 0::2])  # dim 2i\n",
    "    sinusoid_table[:, 1::2] = np.cos(sinusoid_table[:, 1::2])  # dim 2i+1\n",
    "\n",
    "\n",
    "    \n",
    "    return torch.FloatTensor(sinusoid_table)"
   ]
  },
  {
   "cell_type": "code",
   "execution_count": 249,
   "metadata": {},
   "outputs": [
    {
     "name": "stdout",
     "output_type": "stream",
     "text": [
      "tensor([-0.1411,  0.9900,  0.1071, -0.9943,  0.9298, -0.3680, -0.9608,\n",
      "         0.2772,  0.5293, -0.8485,  0.0274, -0.9996, -0.0372,  0.9993,\n",
      "         0.9944,  0.1057, -0.9693, -0.2460, -0.5697,  0.8219,  0.5659,\n",
      "         0.8245,  0.9789,  0.2045, -0.9513, -0.3082,  0.8220, -0.5695,\n",
      "         0.9643,  0.2649,  0.1665, -0.9860,  0.7104, -0.7038,  0.5216,\n",
      "         0.8532, -0.8243, -0.5662, -0.5633,  0.8262,  0.6482, -0.7615,\n",
      "         0.9353, -0.3539,  0.2087, -0.9780,  0.9721,  0.2348,  0.6382,\n",
      "        -0.7698,  0.9553, -0.2955, -0.8027, -0.5964, -0.1935, -0.9811,\n",
      "         0.6870, -0.7267, -0.3616,  0.9324,  1.0000,  0.0027, -0.5848,\n",
      "        -0.8112, -0.1460, -0.9893, -0.9913,  0.1318,  0.9680, -0.2508,\n",
      "         0.9679,  0.2513, -0.9002,  0.4355, -0.4259, -0.9048,  0.2160,\n",
      "         0.9764, -0.4777,  0.8785,  0.2931,  0.9561,  0.8529, -0.5221,\n",
      "        -0.9327,  0.3607, -0.3996, -0.9167, -0.9678,  0.2516, -0.9975,\n",
      "        -0.0705, -0.9927, -0.1206,  0.7965,  0.6047,  0.4750, -0.8800,\n",
      "         0.2425,  0.9702, -0.1860, -0.9826,  0.2192, -0.9757,  0.2904,\n",
      "        -0.9569,  0.7622,  0.6473,  0.9390,  0.3440,  0.8911, -0.4537,\n",
      "         0.9981, -0.0624, -0.9999,  0.0146, -0.4657, -0.8849, -0.1814,\n",
      "        -0.9834,  0.4765, -0.8792,  0.4937,  0.8697,  0.7824, -0.6228,\n",
      "         0.6053,  0.7960,  0.9345,  0.3560, -0.0297, -0.9996, -0.4044,\n",
      "         0.9146,  0.6805, -0.7327, -0.9992,  0.0411, -0.1313,  0.9913,\n",
      "        -0.1634,  0.9866, -0.8855, -0.4647,  0.0920,  0.9958, -0.3557,\n",
      "         0.9346,  0.5678, -0.8232,  0.7979, -0.6028, -0.9998, -0.0221,\n",
      "        -0.2809, -0.9597, -0.9742, -0.2255,  0.9816,  0.1910,  0.2028,\n",
      "         0.9792,  0.7115,  0.7027,  0.1550, -0.9879,  0.3547,  0.9350,\n",
      "        -0.7982,  0.6024, -0.8372,  0.5469,  0.0516,  0.9987,  0.8585,\n",
      "        -0.5128, -0.9290,  0.3701,  0.4861, -0.8739,  0.8108,  0.5854,\n",
      "        -0.0416,  0.9991, -0.3793,  0.9253, -0.1524,  0.9883,  0.5771,\n",
      "         0.8167,  0.9560, -0.2934, -0.4104, -0.9119, -0.5803,  0.8144,\n",
      "         0.9617, -0.2742, -0.9982, -0.0603])\n"
     ]
    }
   ],
   "source": [
    "hh = position_encoding_init(301,200)\n",
    "print(hh[300])"
   ]
  },
  {
   "cell_type": "code",
   "execution_count": 271,
   "metadata": {},
   "outputs": [],
   "source": [
    "class SimpleLSTM(nn.Module):\n",
    "    def __init__(self,vocab_size,embedding_size,pos_size,hidden_size,target_size):\n",
    "        super(SimpleLSTM,self).__init__()\n",
    "        self.embed = nn.Embedding(vocab_size,embedding_size,padding_idx = 4878)\n",
    "        #self.embed.requires_grad=False\n",
    "        self.pos1 = nn.Embedding(pos_size,embedding_size,padding_idx = 300)\n",
    "        self.pos2 = nn.Embedding(pos_size,embedding_size,padding_idx = 300)\n",
    "        self.pos1.requires_grad= True\n",
    "        self.pos2.requires_grad= True\n",
    "        self.lstm = nn.LSTM(embedding_size ,hidden_size,batch_first = True)\n",
    "        self.linear = nn.Linear(hidden_size,target_size)\n",
    "        self.dropout = nn.Dropout(p=0.5)\n",
    "        self.myinit(embedding_size,pos_size)\n",
    "    def myinit(self,embedding_size,pos_size):\n",
    "        \n",
    "        self.pos1.weight.data.copy_(get_sinusoid_encoding_table(pos_size, embedding_size))\n",
    "        self.pos2.weight.data.copy_(get_sinusoid_encoding_table(pos_size, embedding_size))\n",
    "        self.embed.weight.data.copy_(get_myembed())\n",
    "        #self.pos1.weight.data.copy_(position_encoding_init(pos_size, embedding_size))\n",
    "        #self.pos2.weight.data.copy_(position_encoding_init(pos_size, embedding_size))\n",
    "       # nn.init.xavier_uniform_(self.pos1.weight.data)\n",
    "        if self.pos1.padding_idx is not None:\n",
    "            self.pos1.weight.data[self.pos1.padding_idx].fill_(0)\n",
    "           # self.pos1.weight.data[152].fill_(0)\n",
    "        #nn.init.xavier_uniform_(self.pos2.weight.data)\n",
    "        if self.pos2.padding_idx is not None:\n",
    "            self.pos2.weight.data[self.pos2.padding_idx].fill_(0)\n",
    "            #self.pos2.weight.data[152].fill_(0)\n",
    "        \n",
    "       # self.init_pos_weights()\n",
    "\n",
    "    def forward(self,sentence,inpos1,inpos2):\n",
    "        \n",
    "        myembed = self.embed(sentence)\n",
    "       # print(myembed.shape)\n",
    "        mypos1 = self.pos1(inpos1)\n",
    "        #print(mypos1.shape)\n",
    "        mypos2 = self.pos2(inpos2)\n",
    "        #nextt = torch.cat((myembed,mypos1,mypos2),2)\n",
    "        #print(nextt.shape)\n",
    "        nextt = myembed + mypos1 + mypos2\n",
    "        output,(hidden,c) = self.lstm(nextt.view(-1,SENTENCE_LEN,EMBEDDING_SIZE ))\n",
    "        \n",
    "        predict = self.linear((output[:,-1,:].view(-1,HIDDEN_SIZE)))\n",
    "        return predict        "
   ]
  },
  {
   "cell_type": "code",
   "execution_count": 9,
   "metadata": {},
   "outputs": [],
   "source": [
    "def load_data(typee):\n",
    "    origin_y = []\n",
    "    with open(typee + \"_input_label.txt\",\"r\") as f:\n",
    "        for line in f:\n",
    "            origin_y.append(int(line))\n",
    "    origin_x = []\n",
    "    with open(typee + \"_input_pad.txt\",\"r\") as f:\n",
    "        for line in f:\n",
    "            words = line.split()\n",
    "            if len(words)!= SENTENCE_LEN:\n",
    "                print(len(words))\n",
    "           # assert len(words) == SENTENCE_LEN,\"sentence pad\"\n",
    "            for word in words:\n",
    "                origin_x.append(int(word))\n",
    "    numpx = np.array(origin_x)\n",
    "    numpx = numpx.reshape(-1,SENTENCE_LEN)\n",
    "    x = torch.from_numpy(numpx)   \n",
    "    numpy = np.array(origin_y)\n",
    "    y = torch.from_numpy(numpy)\n",
    "    x_pos_A,x_pos_B = get_posembed(typee)\n",
    "    x_pos_A = np.array(x_pos_A)\n",
    "    x_pos_A = torch.from_numpy(x_pos_A)\n",
    "    x_pos_B = np.array(x_pos_B)\n",
    "    x_pos_B = torch.from_numpy(x_pos_B)\n",
    "    new_x = torch.cat((x,x_pos_A,x_pos_B),1)\n",
    "\n",
    "    return new_x,y"
   ]
  },
  {
   "cell_type": "code",
   "execution_count": 10,
   "metadata": {},
   "outputs": [],
   "source": [
    "tp = 0\n",
    "fp = 0\n",
    "fn = 0"
   ]
  },
  {
   "cell_type": "code",
   "execution_count": 11,
   "metadata": {},
   "outputs": [],
   "source": [
    "def evaluate(predict,y):\n",
    "    global tp \n",
    "    global fp \n",
    "    global fn\n",
    "    tp += torch.sum(torch.masked_select(mask = y.byte(),input = predict))\n",
    "    fp += torch.sum(torch.masked_select(mask =~y.byte(),input = predict))\n",
    "    fn += torch.sum(torch.masked_select(mask =y.byte(),input = ~predict.byte()))"
   ]
  },
  {
   "cell_type": "code",
   "execution_count": 10,
   "metadata": {},
   "outputs": [
    {
     "data": {
      "text/plain": [
       "'\\npredict = np.array([0,1,0,0,1,1,1])\\ny = np.array      ([1,0,1,1,0,0,0])\\npredict = torch.from_numpy(predict)\\ny = torch.from_numpy(y)\\nevaluate(predict,y)\\n'"
      ]
     },
     "execution_count": 10,
     "metadata": {},
     "output_type": "execute_result"
    }
   ],
   "source": [
    "'''\n",
    "predict = np.array([0,1,0,0,1,1,1])\n",
    "y = np.array      ([1,0,1,1,0,0,0])\n",
    "predict = torch.from_numpy(predict)\n",
    "y = torch.from_numpy(y)\n",
    "evaluate(predict,y)\n",
    "'''"
   ]
  },
  {
   "cell_type": "code",
   "execution_count": 12,
   "metadata": {},
   "outputs": [],
   "source": [
    "def whole_eval():\n",
    "    precision = tp.float() / (tp.float() + fp.float())\n",
    "    recall = tp.float() / (tp.float() + fn.float())\n",
    "    print(precision)\n",
    "    print(recall)\n",
    "    f1 = 2 * precision * recall / (precision + recall)\n",
    "    return f1\n",
    "            "
   ]
  },
  {
   "cell_type": "code",
   "execution_count": 13,
   "metadata": {},
   "outputs": [],
   "source": [
    "\n",
    "x,y = load_data(\"train\")\n"
   ]
  },
  {
   "cell_type": "code",
   "execution_count": null,
   "metadata": {},
   "outputs": [],
   "source": []
  },
  {
   "cell_type": "code",
   "execution_count": 14,
   "metadata": {},
   "outputs": [],
   "source": [
    "\n",
    "from collections import Counter\n",
    "\n",
    "import numpy as np\n",
    "\n",
    "\n",
    "from sklearn.datasets import load_iris\n",
    "\n",
    "from imblearn.datasets import make_imbalance\n",
    "\n",
    "from imblearn.over_sampling import RandomOverSampler\n",
    "from imblearn.under_sampling import RandomUnderSampler\n",
    "from imblearn.under_sampling import TomekLinks"
   ]
  },
  {
   "cell_type": "code",
   "execution_count": 14,
   "metadata": {},
   "outputs": [
    {
     "data": {
      "text/plain": [
       "'\\nsampling_strategy = {0: 4021, 1: 4021}\\nbx,by = make_imbalance(x, y,sampling_strategy=sampling_strategy)\\nprint(bx,by)\\nbx = torch.from_numpy(bx)\\nby = torch.from_numpy(by)\\n'"
      ]
     },
     "execution_count": 14,
     "metadata": {},
     "output_type": "execute_result"
    }
   ],
   "source": [
    "'''\n",
    "sampling_strategy = {0: 4021, 1: 4021}\n",
    "bx,by = make_imbalance(x, y,sampling_strategy=sampling_strategy)\n",
    "print(bx,by)\n",
    "bx = torch.from_numpy(bx)\n",
    "by = torch.from_numpy(by)\n",
    "'''"
   ]
  },
  {
   "cell_type": "code",
   "execution_count": null,
   "metadata": {},
   "outputs": [],
   "source": []
  },
  {
   "cell_type": "code",
   "execution_count": 15,
   "metadata": {},
   "outputs": [
    {
     "name": "stdout",
     "output_type": "stream",
     "text": [
      "(47542, 465)\n",
      "(47542,)\n"
     ]
    }
   ],
   "source": [
    "\n",
    "sampling_strategy = 'not majority'\n",
    "\n",
    "ros = RandomOverSampler(sampling_strategy=sampling_strategy)\n",
    "X_res, y_res = ros.fit_resample(x, y)\n",
    "print(X_res.shape)\n",
    "print(y_res.shape)\n",
    "X_res = torch.from_numpy(X_res)\n",
    "y_res = torch.from_numpy(y_res)"
   ]
  },
  {
   "cell_type": "code",
   "execution_count": 16,
   "metadata": {},
   "outputs": [],
   "source": [
    "#help((torch.cat))\n",
    "\n"
   ]
  },
  {
   "cell_type": "code",
   "execution_count": 205,
   "metadata": {},
   "outputs": [],
   "source": [
    "#torch_dataset = Data.TensorDataset(x,y)\n",
    "torch_dataset = Data.TensorDataset(X_res,y_res)\n",
    "loader = Data.DataLoader(\n",
    "    dataset = torch_dataset,\n",
    "    batch_size = BATCH_SIZE,\n",
    "    shuffle = True,\n",
    "    num_workers = 2\n",
    ")"
   ]
  },
  {
   "cell_type": "code",
   "execution_count": 132,
   "metadata": {},
   "outputs": [],
   "source": [
    "\n",
    "tx,ty = load_data(\"test\")\n",
    "torch_dataset_test = Data.TensorDataset(tx,ty)\n",
    "#torch_dataset = Data.TensorDataset(X_res,y_res)\n",
    "loader_test = Data.DataLoader(\n",
    "    dataset = torch_dataset_test,\n",
    "    batch_size = BATCH_SIZE,\n",
    "    shuffle = True,\n",
    "    num_workers = 2\n",
    ")\n"
   ]
  },
  {
   "cell_type": "code",
   "execution_count": 19,
   "metadata": {},
   "outputs": [
    {
     "name": "stdout",
     "output_type": "stream",
     "text": [
      "(5761,)\n"
     ]
    }
   ],
   "source": [
    "print(np.array(ty).shape)"
   ]
  },
  {
   "cell_type": "code",
   "execution_count": 280,
   "metadata": {},
   "outputs": [],
   "source": [
    "\n",
    "mynet = SimpleLSTM(VOCAB_SIZE,EMBEDDING_SIZE,POSITION_SIZE,HIDDEN_SIZE,TARGET_SIZE)\n",
    "mynet.cuda()\n",
    "loss_function = nn.CrossEntropyLoss()\n",
    "optimizer = optim.Adam(mynet.parameters(), lr=0.01)\n",
    "\n",
    "his_loss = []\n"
   ]
  },
  {
   "cell_type": "code",
   "execution_count": null,
   "metadata": {},
   "outputs": [],
   "source": []
  },
  {
   "cell_type": "code",
   "execution_count": 281,
   "metadata": {},
   "outputs": [
    {
     "name": "stdout",
     "output_type": "stream",
     "text": [
      "372\n",
      "--------------------------------------\n",
      "tensor(22838, device='cuda:0')\n",
      "tensor(26949, device='cuda:0')\n",
      "tensor(252.5148, device='cuda:0')\n",
      "---------------\n",
      "tensor(13941, device='cuda:0')\n",
      "tensor(13008, device='cuda:0')\n",
      "tensor(9830, device='cuda:0')\n",
      "!!!!!!!!!!!!!!!!!!!\n",
      "372\n",
      "--------------------------------------\n",
      "tensor(21658, device='cuda:0')\n",
      "tensor(26641, device='cuda:0')\n",
      "tensor(248.9774, device='cuda:0')\n",
      "---------------\n",
      "tensor(14377, device='cuda:0')\n",
      "tensor(12264, device='cuda:0')\n",
      "tensor(9394, device='cuda:0')\n",
      "!!!!!!!!!!!!!!!!!!!\n",
      "372\n",
      "--------------------------------------\n",
      "tensor(18596, device='cuda:0')\n",
      "tensor(28141, device='cuda:0')\n",
      "tensor(234.3211, device='cuda:0')\n",
      "---------------\n",
      "tensor(16658, device='cuda:0')\n",
      "tensor(11483, device='cuda:0')\n",
      "tensor(7113, device='cuda:0')\n",
      "!!!!!!!!!!!!!!!!!!!\n",
      "372\n",
      "--------------------------------------\n",
      "tensor(16872, device='cuda:0')\n",
      "tensor(31155, device='cuda:0')\n",
      "tensor(222.8458, device='cuda:0')\n",
      "---------------\n",
      "tensor(19027, device='cuda:0')\n",
      "tensor(12128, device='cuda:0')\n",
      "tensor(4744, device='cuda:0')\n",
      "!!!!!!!!!!!!!!!!!!!\n",
      "372\n",
      "--------------------------------------\n",
      "tensor(9975, device='cuda:0')\n",
      "tensor(27892, device='cuda:0')\n",
      "tensor(166.4420, device='cuda:0')\n",
      "---------------\n",
      "tensor(20844, device='cuda:0')\n",
      "tensor(7048, device='cuda:0')\n",
      "tensor(2927, device='cuda:0')\n",
      "!!!!!!!!!!!!!!!!!!!\n",
      "372\n"
     ]
    },
    {
     "name": "stderr",
     "output_type": "stream",
     "text": [
      "Process Process-435:\n",
      "Process Process-436:\n",
      "Traceback (most recent call last):\n",
      "Traceback (most recent call last):\n",
      "  File \"/home/xue/anaconda2/envs/my_env/lib/python3.6/multiprocessing/process.py\", line 258, in _bootstrap\n",
      "    self.run()\n",
      "  File \"/home/xue/anaconda2/envs/my_env/lib/python3.6/multiprocessing/process.py\", line 93, in run\n",
      "    self._target(*self._args, **self._kwargs)\n",
      "  File \"/home/xue/anaconda2/envs/my_env/lib/python3.6/multiprocessing/process.py\", line 258, in _bootstrap\n",
      "    self.run()\n",
      "  File \"/home/xue/anaconda2/envs/my_env/lib/python3.6/multiprocessing/process.py\", line 93, in run\n",
      "    self._target(*self._args, **self._kwargs)\n",
      "  File \"/home/xue/.local/lib/python3.6/site-packages/torch/utils/data/dataloader.py\", line 52, in _worker_loop\n",
      "    r = index_queue.get()\n",
      "  File \"/home/xue/.local/lib/python3.6/site-packages/torch/utils/data/dataloader.py\", line 52, in _worker_loop\n",
      "    r = index_queue.get()\n",
      "  File \"/home/xue/anaconda2/envs/my_env/lib/python3.6/multiprocessing/queues.py\", line 335, in get\n",
      "    res = self._reader.recv_bytes()\n"
     ]
    },
    {
     "ename": "KeyboardInterrupt",
     "evalue": "",
     "output_type": "error",
     "traceback": [
      "\u001b[0;31m---------------------------------------------------------------------------\u001b[0m",
      "\u001b[0;31mKeyboardInterrupt\u001b[0m                         Traceback (most recent call last)",
      "\u001b[0;32m<ipython-input-281-b833e75c4cf1>\u001b[0m in \u001b[0;36m<module>\u001b[0;34m\u001b[0m\n\u001b[1;32m     13\u001b[0m     \u001b[0mwhole_loss\u001b[0m \u001b[0;34m=\u001b[0m \u001b[0;36m0.0\u001b[0m\u001b[0;34m\u001b[0m\u001b[0;34m\u001b[0m\u001b[0m\n\u001b[1;32m     14\u001b[0m     \u001b[0mprint\u001b[0m\u001b[0;34m(\u001b[0m\u001b[0mlen\u001b[0m\u001b[0;34m(\u001b[0m\u001b[0mloader\u001b[0m\u001b[0;34m)\u001b[0m\u001b[0;34m)\u001b[0m\u001b[0;34m\u001b[0m\u001b[0;34m\u001b[0m\u001b[0m\n\u001b[0;32m---> 15\u001b[0;31m     \u001b[0;32mfor\u001b[0m \u001b[0mstep\u001b[0m\u001b[0;34m,\u001b[0m\u001b[0;34m(\u001b[0m\u001b[0mbatch_x\u001b[0m\u001b[0;34m,\u001b[0m\u001b[0mbatch_y\u001b[0m\u001b[0;34m)\u001b[0m\u001b[0;32min\u001b[0m \u001b[0menumerate\u001b[0m\u001b[0;34m(\u001b[0m\u001b[0mloader\u001b[0m\u001b[0;34m)\u001b[0m\u001b[0;34m:\u001b[0m\u001b[0;34m\u001b[0m\u001b[0;34m\u001b[0m\u001b[0m\n\u001b[0m\u001b[1;32m     16\u001b[0m         \u001b[0;31m#if(step % 100) == 0:print(step)\u001b[0m\u001b[0;34m\u001b[0m\u001b[0;34m\u001b[0m\u001b[0;34m\u001b[0m\u001b[0m\n\u001b[1;32m     17\u001b[0m         \u001b[0;31m#print(batch_x.shape)\u001b[0m\u001b[0;34m\u001b[0m\u001b[0;34m\u001b[0m\u001b[0;34m\u001b[0m\u001b[0m\n",
      "\u001b[0;32m~/.local/lib/python3.6/site-packages/torch/utils/data/dataloader.py\u001b[0m in \u001b[0;36m__next__\u001b[0;34m(self)\u001b[0m\n\u001b[1;32m    278\u001b[0m         \u001b[0;32mwhile\u001b[0m \u001b[0;32mTrue\u001b[0m\u001b[0;34m:\u001b[0m\u001b[0;34m\u001b[0m\u001b[0;34m\u001b[0m\u001b[0m\n\u001b[1;32m    279\u001b[0m             \u001b[0;32massert\u001b[0m \u001b[0;34m(\u001b[0m\u001b[0;32mnot\u001b[0m \u001b[0mself\u001b[0m\u001b[0;34m.\u001b[0m\u001b[0mshutdown\u001b[0m \u001b[0;32mand\u001b[0m \u001b[0mself\u001b[0m\u001b[0;34m.\u001b[0m\u001b[0mbatches_outstanding\u001b[0m \u001b[0;34m>\u001b[0m \u001b[0;36m0\u001b[0m\u001b[0;34m)\u001b[0m\u001b[0;34m\u001b[0m\u001b[0;34m\u001b[0m\u001b[0m\n\u001b[0;32m--> 280\u001b[0;31m             \u001b[0midx\u001b[0m\u001b[0;34m,\u001b[0m \u001b[0mbatch\u001b[0m \u001b[0;34m=\u001b[0m \u001b[0mself\u001b[0m\u001b[0;34m.\u001b[0m\u001b[0m_get_batch\u001b[0m\u001b[0;34m(\u001b[0m\u001b[0;34m)\u001b[0m\u001b[0;34m\u001b[0m\u001b[0;34m\u001b[0m\u001b[0m\n\u001b[0m\u001b[1;32m    281\u001b[0m             \u001b[0mself\u001b[0m\u001b[0;34m.\u001b[0m\u001b[0mbatches_outstanding\u001b[0m \u001b[0;34m-=\u001b[0m \u001b[0;36m1\u001b[0m\u001b[0;34m\u001b[0m\u001b[0;34m\u001b[0m\u001b[0m\n\u001b[1;32m    282\u001b[0m             \u001b[0;32mif\u001b[0m \u001b[0midx\u001b[0m \u001b[0;34m!=\u001b[0m \u001b[0mself\u001b[0m\u001b[0;34m.\u001b[0m\u001b[0mrcvd_idx\u001b[0m\u001b[0;34m:\u001b[0m\u001b[0;34m\u001b[0m\u001b[0;34m\u001b[0m\u001b[0m\n",
      "\u001b[0;32m~/.local/lib/python3.6/site-packages/torch/utils/data/dataloader.py\u001b[0m in \u001b[0;36m_get_batch\u001b[0;34m(self)\u001b[0m\n\u001b[1;32m    257\u001b[0m                 \u001b[0;32mraise\u001b[0m \u001b[0mRuntimeError\u001b[0m\u001b[0;34m(\u001b[0m\u001b[0;34m'DataLoader timed out after {} seconds'\u001b[0m\u001b[0;34m.\u001b[0m\u001b[0mformat\u001b[0m\u001b[0;34m(\u001b[0m\u001b[0mself\u001b[0m\u001b[0;34m.\u001b[0m\u001b[0mtimeout\u001b[0m\u001b[0;34m)\u001b[0m\u001b[0;34m)\u001b[0m\u001b[0;34m\u001b[0m\u001b[0;34m\u001b[0m\u001b[0m\n\u001b[1;32m    258\u001b[0m         \u001b[0;32melse\u001b[0m\u001b[0;34m:\u001b[0m\u001b[0;34m\u001b[0m\u001b[0;34m\u001b[0m\u001b[0m\n\u001b[0;32m--> 259\u001b[0;31m             \u001b[0;32mreturn\u001b[0m \u001b[0mself\u001b[0m\u001b[0;34m.\u001b[0m\u001b[0mdata_queue\u001b[0m\u001b[0;34m.\u001b[0m\u001b[0mget\u001b[0m\u001b[0;34m(\u001b[0m\u001b[0;34m)\u001b[0m\u001b[0;34m\u001b[0m\u001b[0;34m\u001b[0m\u001b[0m\n\u001b[0m\u001b[1;32m    260\u001b[0m \u001b[0;34m\u001b[0m\u001b[0m\n\u001b[1;32m    261\u001b[0m     \u001b[0;32mdef\u001b[0m \u001b[0m__next__\u001b[0m\u001b[0;34m(\u001b[0m\u001b[0mself\u001b[0m\u001b[0;34m)\u001b[0m\u001b[0;34m:\u001b[0m\u001b[0;34m\u001b[0m\u001b[0;34m\u001b[0m\u001b[0m\n",
      "\u001b[0;32m~/anaconda2/envs/my_env/lib/python3.6/multiprocessing/queues.py\u001b[0m in \u001b[0;36mget\u001b[0;34m(self)\u001b[0m\n\u001b[1;32m    335\u001b[0m             \u001b[0mres\u001b[0m \u001b[0;34m=\u001b[0m \u001b[0mself\u001b[0m\u001b[0;34m.\u001b[0m\u001b[0m_reader\u001b[0m\u001b[0;34m.\u001b[0m\u001b[0mrecv_bytes\u001b[0m\u001b[0;34m(\u001b[0m\u001b[0;34m)\u001b[0m\u001b[0;34m\u001b[0m\u001b[0;34m\u001b[0m\u001b[0m\n\u001b[1;32m    336\u001b[0m         \u001b[0;31m# unserialize the data after having released the lock\u001b[0m\u001b[0;34m\u001b[0m\u001b[0;34m\u001b[0m\u001b[0;34m\u001b[0m\u001b[0m\n\u001b[0;32m--> 337\u001b[0;31m         \u001b[0;32mreturn\u001b[0m \u001b[0m_ForkingPickler\u001b[0m\u001b[0;34m.\u001b[0m\u001b[0mloads\u001b[0m\u001b[0;34m(\u001b[0m\u001b[0mres\u001b[0m\u001b[0;34m)\u001b[0m\u001b[0;34m\u001b[0m\u001b[0;34m\u001b[0m\u001b[0m\n\u001b[0m\u001b[1;32m    338\u001b[0m \u001b[0;34m\u001b[0m\u001b[0m\n\u001b[1;32m    339\u001b[0m     \u001b[0;32mdef\u001b[0m \u001b[0mput\u001b[0m\u001b[0;34m(\u001b[0m\u001b[0mself\u001b[0m\u001b[0;34m,\u001b[0m \u001b[0mobj\u001b[0m\u001b[0;34m)\u001b[0m\u001b[0;34m:\u001b[0m\u001b[0;34m\u001b[0m\u001b[0;34m\u001b[0m\u001b[0m\n",
      "\u001b[0;32m~/.local/lib/python3.6/site-packages/torch/multiprocessing/reductions.py\u001b[0m in \u001b[0;36mrebuild_storage_fd\u001b[0;34m(cls, df, size)\u001b[0m\n\u001b[1;32m     68\u001b[0m         \u001b[0mfd\u001b[0m \u001b[0;34m=\u001b[0m \u001b[0mmultiprocessing\u001b[0m\u001b[0;34m.\u001b[0m\u001b[0mreduction\u001b[0m\u001b[0;34m.\u001b[0m\u001b[0mrebuild_handle\u001b[0m\u001b[0;34m(\u001b[0m\u001b[0mdf\u001b[0m\u001b[0;34m)\u001b[0m\u001b[0;34m\u001b[0m\u001b[0;34m\u001b[0m\u001b[0m\n\u001b[1;32m     69\u001b[0m     \u001b[0;32melse\u001b[0m\u001b[0;34m:\u001b[0m\u001b[0;34m\u001b[0m\u001b[0;34m\u001b[0m\u001b[0m\n\u001b[0;32m---> 70\u001b[0;31m         \u001b[0mfd\u001b[0m \u001b[0;34m=\u001b[0m \u001b[0mdf\u001b[0m\u001b[0;34m.\u001b[0m\u001b[0mdetach\u001b[0m\u001b[0;34m(\u001b[0m\u001b[0;34m)\u001b[0m\u001b[0;34m\u001b[0m\u001b[0;34m\u001b[0m\u001b[0m\n\u001b[0m\u001b[1;32m     71\u001b[0m     \u001b[0;32mtry\u001b[0m\u001b[0;34m:\u001b[0m\u001b[0;34m\u001b[0m\u001b[0;34m\u001b[0m\u001b[0m\n\u001b[1;32m     72\u001b[0m         \u001b[0mstorage\u001b[0m \u001b[0;34m=\u001b[0m \u001b[0mstorage_from_cache\u001b[0m\u001b[0;34m(\u001b[0m\u001b[0mcls\u001b[0m\u001b[0;34m,\u001b[0m \u001b[0mfd_id\u001b[0m\u001b[0;34m(\u001b[0m\u001b[0mfd\u001b[0m\u001b[0;34m)\u001b[0m\u001b[0;34m)\u001b[0m\u001b[0;34m\u001b[0m\u001b[0;34m\u001b[0m\u001b[0m\n",
      "\u001b[0;32m~/anaconda2/envs/my_env/lib/python3.6/multiprocessing/resource_sharer.py\u001b[0m in \u001b[0;36mdetach\u001b[0;34m(self)\u001b[0m\n\u001b[1;32m     56\u001b[0m             \u001b[0;34m'''Get the fd.  This should only be called once.'''\u001b[0m\u001b[0;34m\u001b[0m\u001b[0;34m\u001b[0m\u001b[0m\n\u001b[1;32m     57\u001b[0m             \u001b[0;32mwith\u001b[0m \u001b[0m_resource_sharer\u001b[0m\u001b[0;34m.\u001b[0m\u001b[0mget_connection\u001b[0m\u001b[0;34m(\u001b[0m\u001b[0mself\u001b[0m\u001b[0;34m.\u001b[0m\u001b[0m_id\u001b[0m\u001b[0;34m)\u001b[0m \u001b[0;32mas\u001b[0m \u001b[0mconn\u001b[0m\u001b[0;34m:\u001b[0m\u001b[0;34m\u001b[0m\u001b[0;34m\u001b[0m\u001b[0m\n\u001b[0;32m---> 58\u001b[0;31m                 \u001b[0;32mreturn\u001b[0m \u001b[0mreduction\u001b[0m\u001b[0;34m.\u001b[0m\u001b[0mrecv_handle\u001b[0m\u001b[0;34m(\u001b[0m\u001b[0mconn\u001b[0m\u001b[0;34m)\u001b[0m\u001b[0;34m\u001b[0m\u001b[0;34m\u001b[0m\u001b[0m\n\u001b[0m\u001b[1;32m     59\u001b[0m \u001b[0;34m\u001b[0m\u001b[0m\n\u001b[1;32m     60\u001b[0m \u001b[0;34m\u001b[0m\u001b[0m\n",
      "\u001b[0;32m~/anaconda2/envs/my_env/lib/python3.6/multiprocessing/reduction.py\u001b[0m in \u001b[0;36mrecv_handle\u001b[0;34m(conn)\u001b[0m\n\u001b[1;32m    180\u001b[0m         \u001b[0;34m'''Receive a handle over a local connection.'''\u001b[0m\u001b[0;34m\u001b[0m\u001b[0;34m\u001b[0m\u001b[0m\n\u001b[1;32m    181\u001b[0m         \u001b[0;32mwith\u001b[0m \u001b[0msocket\u001b[0m\u001b[0;34m.\u001b[0m\u001b[0mfromfd\u001b[0m\u001b[0;34m(\u001b[0m\u001b[0mconn\u001b[0m\u001b[0;34m.\u001b[0m\u001b[0mfileno\u001b[0m\u001b[0;34m(\u001b[0m\u001b[0;34m)\u001b[0m\u001b[0;34m,\u001b[0m \u001b[0msocket\u001b[0m\u001b[0;34m.\u001b[0m\u001b[0mAF_UNIX\u001b[0m\u001b[0;34m,\u001b[0m \u001b[0msocket\u001b[0m\u001b[0;34m.\u001b[0m\u001b[0mSOCK_STREAM\u001b[0m\u001b[0;34m)\u001b[0m \u001b[0;32mas\u001b[0m \u001b[0ms\u001b[0m\u001b[0;34m:\u001b[0m\u001b[0;34m\u001b[0m\u001b[0;34m\u001b[0m\u001b[0m\n\u001b[0;32m--> 182\u001b[0;31m             \u001b[0;32mreturn\u001b[0m \u001b[0mrecvfds\u001b[0m\u001b[0;34m(\u001b[0m\u001b[0ms\u001b[0m\u001b[0;34m,\u001b[0m \u001b[0;36m1\u001b[0m\u001b[0;34m)\u001b[0m\u001b[0;34m[\u001b[0m\u001b[0;36m0\u001b[0m\u001b[0;34m]\u001b[0m\u001b[0;34m\u001b[0m\u001b[0;34m\u001b[0m\u001b[0m\n\u001b[0m\u001b[1;32m    183\u001b[0m \u001b[0;34m\u001b[0m\u001b[0m\n\u001b[1;32m    184\u001b[0m     \u001b[0;32mdef\u001b[0m \u001b[0mDupFd\u001b[0m\u001b[0;34m(\u001b[0m\u001b[0mfd\u001b[0m\u001b[0;34m)\u001b[0m\u001b[0;34m:\u001b[0m\u001b[0;34m\u001b[0m\u001b[0;34m\u001b[0m\u001b[0m\n",
      "\u001b[0;32m~/anaconda2/envs/my_env/lib/python3.6/multiprocessing/reduction.py\u001b[0m in \u001b[0;36mrecvfds\u001b[0;34m(sock, size)\u001b[0m\n\u001b[1;32m    151\u001b[0m         \u001b[0ma\u001b[0m \u001b[0;34m=\u001b[0m \u001b[0marray\u001b[0m\u001b[0;34m.\u001b[0m\u001b[0marray\u001b[0m\u001b[0;34m(\u001b[0m\u001b[0;34m'i'\u001b[0m\u001b[0;34m)\u001b[0m\u001b[0;34m\u001b[0m\u001b[0;34m\u001b[0m\u001b[0m\n\u001b[1;32m    152\u001b[0m         \u001b[0mbytes_size\u001b[0m \u001b[0;34m=\u001b[0m \u001b[0ma\u001b[0m\u001b[0;34m.\u001b[0m\u001b[0mitemsize\u001b[0m \u001b[0;34m*\u001b[0m \u001b[0msize\u001b[0m\u001b[0;34m\u001b[0m\u001b[0;34m\u001b[0m\u001b[0m\n\u001b[0;32m--> 153\u001b[0;31m         \u001b[0mmsg\u001b[0m\u001b[0;34m,\u001b[0m \u001b[0mancdata\u001b[0m\u001b[0;34m,\u001b[0m \u001b[0mflags\u001b[0m\u001b[0;34m,\u001b[0m \u001b[0maddr\u001b[0m \u001b[0;34m=\u001b[0m \u001b[0msock\u001b[0m\u001b[0;34m.\u001b[0m\u001b[0mrecvmsg\u001b[0m\u001b[0;34m(\u001b[0m\u001b[0;36m1\u001b[0m\u001b[0;34m,\u001b[0m \u001b[0msocket\u001b[0m\u001b[0;34m.\u001b[0m\u001b[0mCMSG_SPACE\u001b[0m\u001b[0;34m(\u001b[0m\u001b[0mbytes_size\u001b[0m\u001b[0;34m)\u001b[0m\u001b[0;34m)\u001b[0m\u001b[0;34m\u001b[0m\u001b[0;34m\u001b[0m\u001b[0m\n\u001b[0m\u001b[1;32m    154\u001b[0m         \u001b[0;32mif\u001b[0m \u001b[0;32mnot\u001b[0m \u001b[0mmsg\u001b[0m \u001b[0;32mand\u001b[0m \u001b[0;32mnot\u001b[0m \u001b[0mancdata\u001b[0m\u001b[0;34m:\u001b[0m\u001b[0;34m\u001b[0m\u001b[0;34m\u001b[0m\u001b[0m\n\u001b[1;32m    155\u001b[0m             \u001b[0;32mraise\u001b[0m \u001b[0mEOFError\u001b[0m\u001b[0;34m\u001b[0m\u001b[0;34m\u001b[0m\u001b[0m\n",
      "\u001b[0;31mKeyboardInterrupt\u001b[0m: "
     ]
    },
    {
     "name": "stderr",
     "output_type": "stream",
     "text": [
      "  File \"/home/xue/anaconda2/envs/my_env/lib/python3.6/multiprocessing/queues.py\", line 335, in get\n",
      "    res = self._reader.recv_bytes()\n",
      "  File \"/home/xue/anaconda2/envs/my_env/lib/python3.6/multiprocessing/connection.py\", line 216, in recv_bytes\n",
      "    buf = self._recv_bytes(maxlength)\n",
      "  File \"/home/xue/anaconda2/envs/my_env/lib/python3.6/multiprocessing/connection.py\", line 216, in recv_bytes\n",
      "    buf = self._recv_bytes(maxlength)\n",
      "  File \"/home/xue/anaconda2/envs/my_env/lib/python3.6/multiprocessing/connection.py\", line 407, in _recv_bytes\n",
      "    buf = self._recv(4)\n",
      "  File \"/home/xue/anaconda2/envs/my_env/lib/python3.6/multiprocessing/connection.py\", line 407, in _recv_bytes\n",
      "    buf = self._recv(4)\n",
      "  File \"/home/xue/anaconda2/envs/my_env/lib/python3.6/multiprocessing/connection.py\", line 379, in _recv\n",
      "    chunk = read(handle, remaining)\n",
      "KeyboardInterrupt\n",
      "  File \"/home/xue/anaconda2/envs/my_env/lib/python3.6/multiprocessing/connection.py\", line 379, in _recv\n",
      "    chunk = read(handle, remaining)\n",
      "KeyboardInterrupt\n"
     ]
    }
   ],
   "source": [
    "\n",
    "wrongnum = 0\n",
    "totalone = 0\n",
    "for epoch in range(10):\n",
    "    global tp\n",
    "    global fp\n",
    "    global fn\n",
    "    tp = 0\n",
    "    fp = 0\n",
    "    fn = 0\n",
    "    wrongnum = 0\n",
    "    totalone = 0\n",
    "    whole_loss = 0.0\n",
    "    print(len(loader))\n",
    "    for step,(batch_x,batch_y)in enumerate(loader):\n",
    "        #if(step % 100) == 0:print(step)\n",
    "        #print(batch_x.shape)\n",
    "        batch_x = batch_x.cuda()\n",
    "        batch_y = batch_y.cuda()\n",
    "        sentence = batch_x[:,:SENTENCE_LEN]\n",
    "        pos1 = batch_x[:,SENTENCE_LEN:SENTENCE_LEN + SENTENCE_LEN]\n",
    "        pos2 = batch_x[:,SENTENCE_LEN + SENTENCE_LEN:]\n",
    "        out = mynet(sentence,pos1,pos2)\n",
    "        pred = torch.max(F.softmax(out,dim = 1),1)[1]\n",
    "        wrongnum += torch.sum(pred != batch_y)\n",
    "        totalone += torch.sum(pred)\n",
    "        loss = loss_function(out,batch_y)\n",
    "        evaluate(pred.cuda(),batch_y)\n",
    "        whole_loss += loss\n",
    "        optimizer.zero_grad()\n",
    "        loss.backward()\n",
    "        optimizer.step()\n",
    "    print(\"--------------------------------------\")\n",
    "    print(wrongnum)\n",
    "    print(totalone)\n",
    "    print(whole_loss)\n",
    "    his_loss.append(whole_loss)\n",
    "    print(\"---------------\")\n",
    "    print(tp)\n",
    "    print(fp)\n",
    "    print(fn)\n",
    "    print(\"!!!!!!!!!!!!!!!!!!!\")\n",
    "   # test()"
   ]
  },
  {
   "cell_type": "code",
   "execution_count": 3,
   "metadata": {},
   "outputs": [
    {
     "ename": "NameError",
     "evalue": "name 'loader_test' is not defined",
     "output_type": "error",
     "traceback": [
      "\u001b[0;31m---------------------------------------------------------------------------\u001b[0m",
      "\u001b[0;31mNameError\u001b[0m                                 Traceback (most recent call last)",
      "\u001b[0;32m<ipython-input-3-096273bb9a10>\u001b[0m in \u001b[0;36m<module>\u001b[0;34m\u001b[0m\n\u001b[1;32m      4\u001b[0m \u001b[0;31m#print(newmynet)\u001b[0m\u001b[0;34m\u001b[0m\u001b[0;34m\u001b[0m\u001b[0;34m\u001b[0m\u001b[0m\n\u001b[1;32m      5\u001b[0m \u001b[0;31m#newmynet.eval()\u001b[0m\u001b[0;34m\u001b[0m\u001b[0;34m\u001b[0m\u001b[0;34m\u001b[0m\u001b[0m\n\u001b[0;32m----> 6\u001b[0;31m \u001b[0mtest\u001b[0m\u001b[0;34m(\u001b[0m\u001b[0;34m)\u001b[0m\u001b[0;34m\u001b[0m\u001b[0;34m\u001b[0m\u001b[0m\n\u001b[0m",
      "\u001b[0;32m<ipython-input-2-152cc545080f>\u001b[0m in \u001b[0;36mtest\u001b[0;34m()\u001b[0m\n\u001b[1;32m      6\u001b[0m     \u001b[0mfp\u001b[0m \u001b[0;34m=\u001b[0m \u001b[0;36m0\u001b[0m\u001b[0;34m\u001b[0m\u001b[0;34m\u001b[0m\u001b[0m\n\u001b[1;32m      7\u001b[0m     \u001b[0mfn\u001b[0m \u001b[0;34m=\u001b[0m \u001b[0;36m0\u001b[0m\u001b[0;34m\u001b[0m\u001b[0;34m\u001b[0m\u001b[0m\n\u001b[0;32m----> 8\u001b[0;31m     \u001b[0;32mfor\u001b[0m \u001b[0mstep\u001b[0m\u001b[0;34m,\u001b[0m\u001b[0;34m(\u001b[0m\u001b[0mbatch_x\u001b[0m\u001b[0;34m,\u001b[0m\u001b[0mbatch_y\u001b[0m\u001b[0;34m)\u001b[0m\u001b[0;32min\u001b[0m \u001b[0menumerate\u001b[0m\u001b[0;34m(\u001b[0m\u001b[0mloader_test\u001b[0m\u001b[0;34m)\u001b[0m\u001b[0;34m:\u001b[0m\u001b[0;34m\u001b[0m\u001b[0;34m\u001b[0m\u001b[0m\n\u001b[0m\u001b[1;32m      9\u001b[0m             \u001b[0mbatch_x\u001b[0m \u001b[0;34m=\u001b[0m \u001b[0mbatch_x\u001b[0m\u001b[0;34m.\u001b[0m\u001b[0mcuda\u001b[0m\u001b[0;34m(\u001b[0m\u001b[0;34m)\u001b[0m\u001b[0;34m\u001b[0m\u001b[0;34m\u001b[0m\u001b[0m\n\u001b[1;32m     10\u001b[0m             \u001b[0mbatch_y\u001b[0m \u001b[0;34m=\u001b[0m \u001b[0mbatch_y\u001b[0m\u001b[0;34m.\u001b[0m\u001b[0mcuda\u001b[0m\u001b[0;34m(\u001b[0m\u001b[0;34m)\u001b[0m\u001b[0;34m\u001b[0m\u001b[0;34m\u001b[0m\u001b[0m\n",
      "\u001b[0;31mNameError\u001b[0m: name 'loader_test' is not defined"
     ]
    }
   ],
   "source": [
    "#torch.save(mynet, \"my79.pkl\")\n",
    "#torch.save(mynet.state_dict(), \"83.pa\")\n",
    "#newmynet = torch.load(\"82.pa\")\n",
    "#print(newmynet)\n",
    "#newmynet.eval()\n",
    "test()"
   ]
  },
  {
   "cell_type": "code",
   "execution_count": 2,
   "metadata": {},
   "outputs": [],
   "source": [
    "def test():\n",
    "    global tp\n",
    "    global fp\n",
    "    global fn\n",
    "    tp = 0\n",
    "    fp = 0\n",
    "    fn = 0\n",
    "    for step,(batch_x,batch_y)in enumerate(loader_test):\n",
    "            batch_x = batch_x.cuda()\n",
    "            batch_y = batch_y.cuda()\n",
    "            if(step % 100) == 0:print(step)\n",
    "\n",
    "            sentence = batch_x[:,:SENTENCE_LEN]\n",
    "            pos1 = batch_x[:,SENTENCE_LEN:SENTENCE_LEN + SENTENCE_LEN]\n",
    "            pos2 = batch_x[:,SENTENCE_LEN + SENTENCE_LEN:]\n",
    "            out = mynet(sentence,pos1,pos2)\n",
    "            pred = torch.max(F.softmax(out,dim = 1),1)[1]\n",
    "            #print(pred)\n",
    "            #print(batch_y)\n",
    "            evaluate(pred.cuda(),batch_y.cuda())\n",
    "    print(\"myeval\")\n",
    "    print(whole_eval())"
   ]
  },
  {
   "cell_type": "code",
   "execution_count": null,
   "metadata": {},
   "outputs": [],
   "source": [
    "print(his_loss)\n",
    "print(wrongnum)\n",
    "print(totalone)"
   ]
  },
  {
   "cell_type": "code",
   "execution_count": 174,
   "metadata": {},
   "outputs": [
    {
     "name": "stdout",
     "output_type": "stream",
     "text": [
      "tensor(15770, device='cuda:0')\n",
      "tensor(2098, device='cuda:0')\n",
      "tensor(1105, device='cuda:0')\n"
     ]
    }
   ],
   "source": [
    "print(tp)\n",
    "print(fp)\n",
    "print(fn)"
   ]
  },
  {
   "cell_type": "code",
   "execution_count": 186,
   "metadata": {},
   "outputs": [
    {
     "name": "stdout",
     "output_type": "stream",
     "text": [
      "tensor(0.5904, device='cuda:0')\n",
      "tensor(0.5301, device='cuda:0')\n"
     ]
    },
    {
     "data": {
      "text/plain": [
       "tensor(0.5587, device='cuda:0')"
      ]
     },
     "execution_count": 186,
     "metadata": {},
     "output_type": "execute_result"
    }
   ],
   "source": [
    "whole_eval()"
   ]
  }
 ],
 "metadata": {
  "kernelspec": {
   "display_name": "Python 3",
   "language": "python",
   "name": "python3"
  },
  "language_info": {
   "codemirror_mode": {
    "name": "ipython",
    "version": 3
   },
   "file_extension": ".py",
   "mimetype": "text/x-python",
   "name": "python",
   "nbconvert_exporter": "python",
   "pygments_lexer": "ipython3",
   "version": "3.6.8"
  }
 },
 "nbformat": 4,
 "nbformat_minor": 2
}
