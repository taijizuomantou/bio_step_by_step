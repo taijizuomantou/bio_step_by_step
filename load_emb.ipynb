{
 "cells": [
  {
   "cell_type": "code",
   "execution_count": 10,
   "metadata": {},
   "outputs": [],
   "source": [
    "from itertools import izip\n",
    "import numpy as np\n"
   ]
  },
  {
   "cell_type": "code",
   "execution_count": 9,
   "metadata": {},
   "outputs": [],
   "source": [
    "def load_emb(types_file, emb_file):\n",
    "    emb = {}\n",
    "    with open(types_file, 'r') as types_f, open(emb_file, 'r') as emb_f:\n",
    "            for line1, line2 in izip(types_f, emb_f):\n",
    "                line2 = line2.strip()\n",
    "                emb[line1.strip('\\r\\n').decode('UTF-8', 'ignore')] = np.array(map(float, line2.split(' ')), dtype=np.float32)\n",
    "    return emb"
   ]
  },
  {
   "cell_type": "code",
   "execution_count": 12,
   "metadata": {},
   "outputs": [],
   "source": [
    "emb = load_emb(\"data/types.txt\",\"data/vectors.txt\")"
   ]
  },
  {
   "cell_type": "code",
   "execution_count": 14,
   "metadata": {},
   "outputs": [
    {
     "name": "stdout",
     "output_type": "stream",
     "text": [
      "1701632\n"
     ]
    }
   ],
   "source": [
    "print(len(emb))"
   ]
  },
  {
   "cell_type": "code",
   "execution_count": 40,
   "metadata": {},
   "outputs": [],
   "source": [
    "def go_through_file(file,mydict):\n",
    "    count = 0\n",
    "    for line in (file):\n",
    "        count += 1\n",
    "        if(count % 2 == 0):continue\n",
    "        words = line.lower().split()\n",
    "        for word in words:\n",
    "         #   print(word)\n",
    "            if mydict.get(word):\n",
    "                mydict[word] += 1\n",
    "            else:\n",
    "                mydict[word] = 1\n",
    "              #  print(word)\n",
    "        "
   ]
  },
  {
   "cell_type": "code",
   "execution_count": 41,
   "metadata": {},
   "outputs": [],
   "source": [
    "f_train = open(\"train7.txt\",\"r\")\n",
    "mydict = {}\n",
    "go_through_file(f_train,mydict)"
   ]
  },
  {
   "cell_type": "code",
   "execution_count": 59,
   "metadata": {},
   "outputs": [
    {
     "name": "stdout",
     "output_type": "stream",
     "text": [
      "4813\n"
     ]
    }
   ],
   "source": [
    "print(len(mydict))"
   ]
  },
  {
   "cell_type": "code",
   "execution_count": 54,
   "metadata": {},
   "outputs": [],
   "source": [
    "word2index = {}\n",
    "i = 0\n",
    "with open(\"data/types.txt\", 'r') as  f:\n",
    "    for line in f:\n",
    "        word = line.strip()\n",
    "        word2index[word] = i\n",
    "        i += 1"
   ]
  },
  {
   "cell_type": "code",
   "execution_count": 63,
   "metadata": {},
   "outputs": [],
   "source": [
    "exists = [0] * 2000000\n",
    "\n",
    "for word in mydict:\n",
    "    if word2index.get(word):\n",
    "        exists[word2index[word]] = True"
   ]
  },
  {
   "cell_type": "code",
   "execution_count": 67,
   "metadata": {},
   "outputs": [],
   "source": [
    "i = 0\n",
    "fout = open(\"new_type.txt\",\"w\")\n",
    "with open(\"data/types.txt\", 'r') as  f:\n",
    "    for line in f:\n",
    "        if exists[i] != 0:\n",
    "            fout.write(line)\n",
    "        i += 1"
   ]
  },
  {
   "cell_type": "code",
   "execution_count": 68,
   "metadata": {},
   "outputs": [],
   "source": [
    "i = 0\n",
    "fout = open(\"new_vector.txt\",\"w\")\n",
    "with open(\"data/vectors.txt\", 'r') as  f:\n",
    "    for line in f:\n",
    "        if exists[i] != 0:\n",
    "            fout.write(line)\n",
    "        i += 1"
   ]
  }
 ],
 "metadata": {
  "kernelspec": {
   "display_name": "Python 3",
   "language": "python",
   "name": "python3"
  },
  "language_info": {
   "codemirror_mode": {
    "name": "ipython",
    "version": 3
   },
   "file_extension": ".py",
   "mimetype": "text/x-python",
   "name": "python",
   "nbconvert_exporter": "python",
   "pygments_lexer": "ipython3",
   "version": "3.6.8"
  }
 },
 "nbformat": 4,
 "nbformat_minor": 2
}
