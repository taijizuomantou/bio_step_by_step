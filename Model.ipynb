{
 "cells": [
  {
   "cell_type": "code",
   "execution_count": 1,
   "metadata": {},
   "outputs": [
    {
     "data": {
      "text/plain": [
       "<torch._C.Generator at 0x7f728f495890>"
      ]
     },
     "execution_count": 1,
     "metadata": {},
     "output_type": "execute_result"
    }
   ],
   "source": [
    "import torch\n",
    "import torch.tensor\n",
    "import torch.nn as nn\n",
    "import torch.nn.functional as F\n",
    "import torch.nn.functional as F\n",
    "import torch.optim as optim\n",
    "import numpy as np\n",
    "from torch.autograd import Variable\n",
    "import torch.utils.data as Data\n",
    "torch.manual_seed(1)"
   ]
  },
  {
   "cell_type": "code",
   "execution_count": 2,
   "metadata": {},
   "outputs": [],
   "source": [
    "VOCAB_SIZE = 4879\n",
    "EMBEDDING_SIZE = 200\n",
    "HIDDEN_SIZE = 200\n",
    "TARGET_SIZE = 2\n",
    "SENTENCE_LEN = 155\n",
    "BATCH_SIZE = 128\n",
    "POSITION_SIZE = 301"
   ]
  },
  {
   "cell_type": "code",
   "execution_count": 3,
   "metadata": {},
   "outputs": [],
   "source": [
    "def get_myembed():\n",
    "    myembed = []\n",
    "    with open(\"word_vector.txt\",\"r\") as f:\n",
    "        for line in f:\n",
    "            words = line.split()\n",
    "            for word in words:\n",
    "                myembed.append(float(word))\n",
    "    for i in range(EMBEDDING_SIZE):myembed.append(0)\n",
    "    myembed = np.array(myembed)\n",
    "    myembed = myembed.reshape((VOCAB_SIZE,EMBEDDING_SIZE))\n",
    "    myembed = torch.from_numpy(myembed)\n",
    "    return myembed"
   ]
  },
  {
   "cell_type": "code",
   "execution_count": 4,
   "metadata": {},
   "outputs": [
    {
     "name": "stdout",
     "output_type": "stream",
     "text": [
      "torch.Size([4879, 200])\n"
     ]
    }
   ],
   "source": [
    "print(get_myembed().shape)"
   ]
  },
  {
   "cell_type": "code",
   "execution_count": 5,
   "metadata": {},
   "outputs": [],
   "source": [
    "def get_posembed(typee):\n",
    "    posembedA = []\n",
    "    with open(typee+\"_pos_A.txt\",\"r\") as f:\n",
    "        for line in f:\n",
    "            words = line.split()\n",
    "            temp = []\n",
    "            for word in words:\n",
    "                if(int(word) == 1000):word = 300\n",
    "                if(int(word) == 152):word = 300\n",
    "                temp.append(int(word))\n",
    "            posembedA.append(temp)\n",
    "    posembedB = []\n",
    "    with open(typee +\"_pos_B.txt\",\"r\") as f:\n",
    "        for line in f:\n",
    "            words = line.split()\n",
    "            temp = []\n",
    "            for word in words:\n",
    "                if(int(word) == 1000):word = 300\n",
    "                if(int(word) == 152):word = 300\n",
    "                temp.append(int(word))\n",
    "            posembedB.append(temp)\n",
    "    return posembedA,posembedB\n",
    "            "
   ]
  },
  {
   "cell_type": "code",
   "execution_count": 6,
   "metadata": {},
   "outputs": [],
   "source": [
    "ansa,ansb = get_posembed(\"train\")\n"
   ]
  },
  {
   "cell_type": "code",
   "execution_count": 7,
   "metadata": {},
   "outputs": [],
   "source": [
    "\n",
    "\n",
    "def position_encoding_init(n_position, emb_dim):\n",
    "    ''' Init the sinusoid position encoding table '''\n",
    "    \n",
    "    # keep dim 0 for padding token position encoding zero vector\n",
    "    position_enc = np.array([\n",
    "        [pos / np.power(10000, 2 * (j // 2) / emb_dim) for j in range(emb_dim)]\n",
    "        if pos != 0 else np.zeros(emb_dim) for pos in range(n_position)])\n",
    "    \n",
    "\n",
    "    position_enc[1:, 0::2] = np.sin(position_enc[1:, 0::2]) # dim 2i\n",
    "    position_enc[1:, 1::2] = np.cos(position_enc[1:, 1::2]) # dim 2i+1\n",
    "    \n",
    "   # position_enc = np.random.rand(n_position,emb_dim)\n",
    "    return torch.from_numpy(position_enc).float()\n"
   ]
  },
  {
   "cell_type": "code",
   "execution_count": 8,
   "metadata": {},
   "outputs": [],
   "source": [
    "def get_sinusoid_encoding_table(n_position, d_hid):\n",
    "    ''' Sinusoid position encoding table '''\n",
    "\n",
    "    def cal_angle(position, hid_idx):\n",
    "        return position / np.power(10000, 2 * (hid_idx // 2) / d_hid)\n",
    "\n",
    "    def get_posi_angle_vec(position):\n",
    "        return [cal_angle(position, hid_j) for hid_j in range(d_hid)]\n",
    "\n",
    "    sinusoid_table = np.array([get_posi_angle_vec(pos_i - 152) for pos_i in range(n_position)])\n",
    "\n",
    "    sinusoid_table[:, 0::2] = np.sin(sinusoid_table[:, 0::2])  # dim 2i\n",
    "    sinusoid_table[:, 1::2] = np.cos(sinusoid_table[:, 1::2])  # dim 2i+1\n",
    "\n",
    "\n",
    "    \n",
    "    return torch.FloatTensor(sinusoid_table)"
   ]
  },
  {
   "cell_type": "code",
   "execution_count": 9,
   "metadata": {},
   "outputs": [
    {
     "name": "stdout",
     "output_type": "stream",
     "text": [
      "tensor([-0.9998, -0.0221, -0.2809, -0.9597, -0.9742, -0.2255,  0.9816,\n",
      "         0.1910,  0.2028,  0.9792,  0.7115,  0.7027,  0.1550, -0.9879,\n",
      "         0.3547,  0.9350, -0.7982,  0.6024, -0.8372,  0.5469,  0.0516,\n",
      "         0.9987,  0.8585, -0.5128, -0.9290,  0.3701,  0.4861, -0.8739,\n",
      "         0.8108,  0.5854, -0.0416,  0.9991, -0.3793,  0.9253, -0.1524,\n",
      "         0.9883,  0.5771,  0.8167,  0.9560, -0.2934, -0.4104, -0.9119,\n",
      "        -0.5803,  0.8144,  0.9617, -0.2742, -0.9982, -0.0603,  0.9957,\n",
      "         0.0922, -0.9880,  0.1543,  0.7920, -0.6106, -0.1789,  0.9839,\n",
      "        -0.6934, -0.7206,  0.9445, -0.3284,  0.0791,  0.9969, -0.9999,\n",
      "        -0.0156, -0.0363, -0.9993,  0.9755, -0.2199,  0.5048,  0.8633,\n",
      "        -0.5836,  0.8120, -0.9947, -0.1030, -0.4874, -0.8732,  0.3569,\n",
      "        -0.9342,  0.9176, -0.3974,  0.9498,  0.3130,  0.5559,  0.8313,\n",
      "        -0.0153,  0.9999, -0.5369,  0.8436, -0.8771,  0.4803, -0.9991,\n",
      "         0.0423, -0.9301, -0.3673, -0.7265, -0.6872, -0.4486, -0.8937,\n",
      "        -0.1473, -0.9891,  0.1411, -0.9900,  0.3945, -0.9189,  0.6022,\n",
      "        -0.7983,  0.7617, -0.6480,  0.8753, -0.4835,  0.9486, -0.3165,\n",
      "         0.9879, -0.1549,  1.0000, -0.0036,  0.9909,  0.1345,  0.9661,\n",
      "         0.2583,  0.9300,  0.3676,  0.8863,  0.4632,  0.8379,  0.5458,\n",
      "         0.7870,  0.6169,  0.7354,  0.6776,  0.6842,  0.7293,  0.6344,\n",
      "         0.7730,  0.5865,  0.8099,  0.5410,  0.8410,  0.4980,  0.8672,\n",
      "         0.4578,  0.8891,  0.4202,  0.9074,  0.3852,  0.9228,  0.3529,\n",
      "         0.9357,  0.3230,  0.9464,  0.2955,  0.9553,  0.2702,  0.9628,\n",
      "         0.2469,  0.9690,  0.2256,  0.9742,  0.2061,  0.9785,  0.1882,\n",
      "         0.9821,  0.1718,  0.9851,  0.1568,  0.9876,  0.1431,  0.9897,\n",
      "         0.1306,  0.9914,  0.1191,  0.9929,  0.1087,  0.9941,  0.0992,\n",
      "         0.9951,  0.0905,  0.9959,  0.0825,  0.9966,  0.0753,  0.9972,\n",
      "         0.0687,  0.9976,  0.0626,  0.9980,  0.0571,  0.9984,  0.0521,\n",
      "         0.9986,  0.0475,  0.9989,  0.0433,  0.9991,  0.0395,  0.9992,\n",
      "         0.0361,  0.9993,  0.0329,  0.9995])\n"
     ]
    }
   ],
   "source": [
    "hh = position_encoding_init(301,200)\n",
    "print(hh[300])"
   ]
  },
  {
   "cell_type": "code",
   "execution_count": 10,
   "metadata": {},
   "outputs": [],
   "source": [
    "class SimpleLSTM(nn.Module):\n",
    "    def __init__(self,vocab_size,embedding_size,pos_size,hidden_size,target_size):\n",
    "        super(SimpleLSTM,self).__init__()\n",
    "        self.embed = nn.Embedding(vocab_size,embedding_size,padding_idx = 4878)\n",
    "        #self.embed.requires_grad=False\n",
    "        self.pos1 = nn.Embedding(pos_size,embedding_size,padding_idx = 300)\n",
    "        self.pos2 = nn.Embedding(pos_size,embedding_size,padding_idx = 300)\n",
    "        self.pos1.requires_grad= True\n",
    "        self.pos2.requires_grad= True\n",
    "        self.lstm = nn.LSTM(embedding_size ,hidden_size,batch_first = True)\n",
    "        self.linear = nn.Linear(hidden_size,target_size)\n",
    "        self.dropout = nn.Dropout(p=0.5)\n",
    "        self.myinit(embedding_size,pos_size)\n",
    "    def myinit(self,embedding_size,pos_size):\n",
    "        \n",
    "        self.pos1.weight.data.copy_(get_sinusoid_encoding_table(pos_size, embedding_size))\n",
    "        self.pos2.weight.data.copy_(get_sinusoid_encoding_table(pos_size, embedding_size))\n",
    "        self.embed.weight.data.copy_(get_myembed())\n",
    "        #self.pos1.weight.data.copy_(position_encoding_init(pos_size, embedding_size))\n",
    "        #self.pos2.weight.data.copy_(position_encoding_init(pos_size, embedding_size))\n",
    "       # nn.init.xavier_uniform_(self.pos1.weight.data)\n",
    "        if self.pos1.padding_idx is not None:\n",
    "            self.pos1.weight.data[self.pos1.padding_idx].fill_(0)\n",
    "           # self.pos1.weight.data[152].fill_(0)\n",
    "        #nn.init.xavier_uniform_(self.pos2.weight.data)\n",
    "        if self.pos2.padding_idx is not None:\n",
    "            self.pos2.weight.data[self.pos2.padding_idx].fill_(0)\n",
    "            #self.pos2.weight.data[152].fill_(0)\n",
    "        \n",
    "       # self.init_pos_weights()\n",
    "\n",
    "    def forward(self,sentence,inpos1,inpos2):\n",
    "        \n",
    "        myembed = self.embed(sentence)\n",
    "       # print(myembed.shape)\n",
    "        mypos1 = self.pos1(inpos1)\n",
    "        #print(mypos1.shape)\n",
    "        mypos2 = self.pos2(inpos2)\n",
    "        #nextt = torch.cat((myembed,mypos1,mypos2),2)\n",
    "        #print(nextt.shape)\n",
    "        nextt = myembed + mypos1 + mypos2\n",
    "        output,(hidden,c) = self.lstm(nextt.view(-1,SENTENCE_LEN,EMBEDDING_SIZE ))\n",
    "        \n",
    "        predict = self.linear((output[:,-1,:].view(-1,HIDDEN_SIZE)))\n",
    "        return predict        "
   ]
  },
  {
   "cell_type": "code",
   "execution_count": 11,
   "metadata": {},
   "outputs": [],
   "source": [
    "def load_data(typee):\n",
    "    origin_y = []\n",
    "    with open(typee + \"_input_label.txt\",\"r\") as f:\n",
    "        for line in f:\n",
    "            origin_y.append(int(line))\n",
    "    origin_x = []\n",
    "    with open(typee + \"_input_pad.txt\",\"r\") as f:\n",
    "        for line in f:\n",
    "            words = line.split()\n",
    "            if len(words)!= SENTENCE_LEN:\n",
    "                print(len(words))\n",
    "           # assert len(words) == SENTENCE_LEN,\"sentence pad\"\n",
    "            for word in words:\n",
    "                origin_x.append(int(word))\n",
    "    numpx = np.array(origin_x)\n",
    "    numpx = numpx.reshape(-1,SENTENCE_LEN)\n",
    "    x = torch.from_numpy(numpx)   \n",
    "    numpy = np.array(origin_y)\n",
    "    y = torch.from_numpy(numpy)\n",
    "    x_pos_A,x_pos_B = get_posembed(typee)\n",
    "    x_pos_A = np.array(x_pos_A)\n",
    "    x_pos_A = torch.from_numpy(x_pos_A)\n",
    "    x_pos_B = np.array(x_pos_B)\n",
    "    x_pos_B = torch.from_numpy(x_pos_B)\n",
    "    new_x = torch.cat((x,x_pos_A,x_pos_B),1)\n",
    "\n",
    "    return new_x,y"
   ]
  },
  {
   "cell_type": "code",
   "execution_count": 12,
   "metadata": {},
   "outputs": [],
   "source": [
    "tp = 0\n",
    "fp = 0\n",
    "fn = 0"
   ]
  },
  {
   "cell_type": "code",
   "execution_count": 13,
   "metadata": {},
   "outputs": [],
   "source": [
    "def evaluate(predict,y):\n",
    "    global tp \n",
    "    global fp \n",
    "    global fn\n",
    "    tp += torch.sum(torch.masked_select(mask = y.byte(),input = predict))\n",
    "    fp += torch.sum(torch.masked_select(mask =~y.byte(),input = predict))\n",
    "    fn += torch.sum(torch.masked_select(mask =y.byte(),input = ~predict.byte()))"
   ]
  },
  {
   "cell_type": "code",
   "execution_count": 14,
   "metadata": {},
   "outputs": [
    {
     "data": {
      "text/plain": [
       "'\\npredict = np.array([0,1,0,0,1,1,1])\\ny = np.array      ([1,0,1,1,0,0,0])\\npredict = torch.from_numpy(predict)\\ny = torch.from_numpy(y)\\nevaluate(predict,y)\\n'"
      ]
     },
     "execution_count": 14,
     "metadata": {},
     "output_type": "execute_result"
    }
   ],
   "source": [
    "'''\n",
    "predict = np.array([0,1,0,0,1,1,1])\n",
    "y = np.array      ([1,0,1,1,0,0,0])\n",
    "predict = torch.from_numpy(predict)\n",
    "y = torch.from_numpy(y)\n",
    "evaluate(predict,y)\n",
    "'''"
   ]
  },
  {
   "cell_type": "code",
   "execution_count": 15,
   "metadata": {},
   "outputs": [],
   "source": [
    "def whole_eval():\n",
    "    precision = tp.float() / (tp.float() + fp.float())\n",
    "    recall = tp.float() / (tp.float() + fn.float())\n",
    "    print(precision)\n",
    "    print(recall)\n",
    "    f1 = 2 * precision * recall / (precision + recall)\n",
    "    return f1\n",
    "            "
   ]
  },
  {
   "cell_type": "code",
   "execution_count": 16,
   "metadata": {},
   "outputs": [],
   "source": [
    "\n",
    "x,y = load_data(\"train\")\n"
   ]
  },
  {
   "cell_type": "code",
   "execution_count": null,
   "metadata": {},
   "outputs": [],
   "source": []
  },
  {
   "cell_type": "code",
   "execution_count": 17,
   "metadata": {},
   "outputs": [],
   "source": [
    "\n",
    "from collections import Counter\n",
    "\n",
    "import numpy as np\n",
    "\n",
    "\n",
    "from sklearn.datasets import load_iris\n",
    "\n",
    "from imblearn.datasets import make_imbalance\n",
    "\n",
    "from imblearn.over_sampling import RandomOverSampler\n",
    "from imblearn.under_sampling import RandomUnderSampler\n",
    "from imblearn.under_sampling import TomekLinks"
   ]
  },
  {
   "cell_type": "code",
   "execution_count": 18,
   "metadata": {},
   "outputs": [
    {
     "data": {
      "text/plain": [
       "'\\nsampling_strategy = {0: 4021, 1: 4021}\\nbx,by = make_imbalance(x, y,sampling_strategy=sampling_strategy)\\nprint(bx,by)\\nbx = torch.from_numpy(bx)\\nby = torch.from_numpy(by)\\n'"
      ]
     },
     "execution_count": 18,
     "metadata": {},
     "output_type": "execute_result"
    }
   ],
   "source": [
    "'''\n",
    "sampling_strategy = {0: 4021, 1: 4021}\n",
    "bx,by = make_imbalance(x, y,sampling_strategy=sampling_strategy)\n",
    "print(bx,by)\n",
    "bx = torch.from_numpy(bx)\n",
    "by = torch.from_numpy(by)\n",
    "'''"
   ]
  },
  {
   "cell_type": "code",
   "execution_count": null,
   "metadata": {},
   "outputs": [],
   "source": []
  },
  {
   "cell_type": "code",
   "execution_count": 19,
   "metadata": {},
   "outputs": [
    {
     "name": "stdout",
     "output_type": "stream",
     "text": [
      "(47542, 465)\n",
      "(47542,)\n"
     ]
    }
   ],
   "source": [
    "\n",
    "sampling_strategy = 'not majority'\n",
    "\n",
    "ros = RandomOverSampler(sampling_strategy=sampling_strategy)\n",
    "X_res, y_res = ros.fit_resample(x, y)\n",
    "print(X_res.shape)\n",
    "print(y_res.shape)\n",
    "X_res = torch.from_numpy(X_res)\n",
    "y_res = torch.from_numpy(y_res)"
   ]
  },
  {
   "cell_type": "code",
   "execution_count": 20,
   "metadata": {},
   "outputs": [],
   "source": [
    "#help((torch.cat))\n",
    "\n"
   ]
  },
  {
   "cell_type": "code",
   "execution_count": 60,
   "metadata": {},
   "outputs": [],
   "source": [
    "torch_dataset = Data.TensorDataset(x,y)\n",
    "#torch_dataset = Data.TensorDataset(X_res,y_res)\n",
    "loader = Data.DataLoader(\n",
    "    dataset = torch_dataset,\n",
    "    batch_size = BATCH_SIZE,\n",
    "    shuffle = True,\n",
    "    num_workers = 2\n",
    ")"
   ]
  },
  {
   "cell_type": "code",
   "execution_count": 30,
   "metadata": {},
   "outputs": [],
   "source": [
    "\n",
    "tx,ty = load_data(\"test\")\n",
    "#torch_dataset_test = Data.TensorDataset(tx,ty)\n",
    "torch_dataset = Data.TensorDataset(X_res,y_res)\n",
    "loader_test = Data.DataLoader(\n",
    "    dataset = torch_dataset_test,\n",
    "    batch_size = BATCH_SIZE,\n",
    "    shuffle = True,\n",
    "    num_workers = 2\n",
    ")\n"
   ]
  },
  {
   "cell_type": "code",
   "execution_count": 23,
   "metadata": {},
   "outputs": [
    {
     "name": "stdout",
     "output_type": "stream",
     "text": [
      "(5761,)\n"
     ]
    }
   ],
   "source": [
    "print(np.array(ty).shape)"
   ]
  },
  {
   "cell_type": "code",
   "execution_count": 46,
   "metadata": {},
   "outputs": [],
   "source": [
    "\n",
    "mynet = SimpleLSTM(VOCAB_SIZE,EMBEDDING_SIZE,POSITION_SIZE,HIDDEN_SIZE,TARGET_SIZE)\n",
    "mynet.cuda()\n",
    "loss_function = nn.CrossEntropyLoss()\n",
    "optimizer = optim.Adam(mynet.parameters(), lr=0.01)\n",
    "\n",
    "his_loss = []\n"
   ]
  },
  {
   "cell_type": "code",
   "execution_count": 59,
   "metadata": {},
   "outputs": [],
   "source": [
    "optimizer = optim.Adam(mynet.parameters(), lr=0.001)"
   ]
  },
  {
   "cell_type": "code",
   "execution_count": 61,
   "metadata": {},
   "outputs": [
    {
     "name": "stdout",
     "output_type": "stream",
     "text": [
      "218\n",
      "--------------------------------------\n",
      "tensor(3954, device='cuda:0')\n",
      "tensor(345, device='cuda:0')\n",
      "tensor(81.8291, device='cuda:0')\n",
      "---------------\n",
      "tensor(206, device='cuda:0')\n",
      "tensor(139, device='cuda:0')\n",
      "tensor(3815, device='cuda:0')\n",
      "!!!!!!!!!!!!!!!!!!!\n",
      "0\n",
      "myeval\n",
      "tensor(0.5219, device='cuda:0')\n",
      "tensor(0.1338, device='cuda:0')\n",
      "tensor(0.2130, device='cuda:0')\n",
      "218\n",
      "--------------------------------------\n",
      "tensor(3786, device='cuda:0')\n",
      "tensor(843, device='cuda:0')\n",
      "tensor(71.4896, device='cuda:0')\n",
      "---------------\n",
      "tensor(539, device='cuda:0')\n",
      "tensor(304, device='cuda:0')\n",
      "tensor(3482, device='cuda:0')\n",
      "!!!!!!!!!!!!!!!!!!!\n",
      "0\n",
      "myeval\n",
      "tensor(0.7778, device='cuda:0')\n",
      "tensor(1.00000e-02 *\n",
      "       1.4300, device='cuda:0')\n",
      "tensor(1.00000e-02 *\n",
      "       2.8084, device='cuda:0')\n",
      "218\n",
      "--------------------------------------\n",
      "tensor(3619, device='cuda:0')\n",
      "tensor(1770, device='cuda:0')\n",
      "tensor(63.2891, device='cuda:0')\n",
      "---------------\n",
      "tensor(1086, device='cuda:0')\n",
      "tensor(684, device='cuda:0')\n",
      "tensor(2935, device='cuda:0')\n",
      "!!!!!!!!!!!!!!!!!!!\n",
      "0\n",
      "myeval\n",
      "tensor(0.5020, device='cuda:0')\n",
      "tensor(0.3851, device='cuda:0')\n",
      "tensor(0.4358, device='cuda:0')\n",
      "218\n",
      "--------------------------------------\n",
      "tensor(3272, device='cuda:0')\n",
      "tensor(2455, device='cuda:0')\n",
      "tensor(56.8080, device='cuda:0')\n",
      "---------------\n",
      "tensor(1602, device='cuda:0')\n",
      "tensor(853, device='cuda:0')\n",
      "tensor(2419, device='cuda:0')\n",
      "!!!!!!!!!!!!!!!!!!!\n",
      "0\n",
      "myeval\n",
      "tensor(0.6014, device='cuda:0')\n",
      "tensor(0.1788, device='cuda:0')\n",
      "tensor(0.2756, device='cuda:0')\n",
      "218\n",
      "--------------------------------------\n",
      "tensor(2994, device='cuda:0')\n",
      "tensor(2911, device='cuda:0')\n",
      "tensor(50.5424, device='cuda:0')\n",
      "---------------\n",
      "tensor(1969, device='cuda:0')\n",
      "tensor(942, device='cuda:0')\n",
      "tensor(2052, device='cuda:0')\n",
      "!!!!!!!!!!!!!!!!!!!\n",
      "0\n",
      "myeval\n",
      "tensor(0.6906, device='cuda:0')\n",
      "tensor(0.1573, device='cuda:0')\n",
      "tensor(0.2562, device='cuda:0')\n",
      "218\n",
      "--------------------------------------\n",
      "tensor(2584, device='cuda:0')\n",
      "tensor(3283, device='cuda:0')\n",
      "tensor(45.0686, device='cuda:0')\n",
      "---------------\n",
      "tensor(2360, device='cuda:0')\n",
      "tensor(923, device='cuda:0')\n",
      "tensor(1661, device='cuda:0')\n",
      "!!!!!!!!!!!!!!!!!!!\n",
      "0\n",
      "myeval\n",
      "tensor(0.6657, device='cuda:0')\n",
      "tensor(0.2421, device='cuda:0')\n",
      "tensor(0.3551, device='cuda:0')\n",
      "218\n",
      "--------------------------------------\n",
      "tensor(2369, device='cuda:0')\n",
      "tensor(3474, device='cuda:0')\n",
      "tensor(41.3387, device='cuda:0')\n",
      "---------------\n",
      "tensor(2563, device='cuda:0')\n",
      "tensor(911, device='cuda:0')\n",
      "tensor(1458, device='cuda:0')\n",
      "!!!!!!!!!!!!!!!!!!!\n",
      "0\n",
      "myeval\n",
      "tensor(0.5830, device='cuda:0')\n",
      "tensor(0.4127, device='cuda:0')\n",
      "tensor(0.4833, device='cuda:0')\n",
      "218\n",
      "--------------------------------------\n",
      "tensor(2012, device='cuda:0')\n",
      "tensor(3641, device='cuda:0')\n",
      "tensor(36.6043, device='cuda:0')\n",
      "---------------\n",
      "tensor(2825, device='cuda:0')\n",
      "tensor(816, device='cuda:0')\n",
      "tensor(1196, device='cuda:0')\n",
      "!!!!!!!!!!!!!!!!!!!\n",
      "0\n",
      "myeval\n",
      "tensor(0.4932, device='cuda:0')\n",
      "tensor(0.5546, device='cuda:0')\n",
      "tensor(0.5221, device='cuda:0')\n",
      "218\n",
      "--------------------------------------\n",
      "tensor(1789, device='cuda:0')\n",
      "tensor(3796, device='cuda:0')\n",
      "tensor(33.1684, device='cuda:0')\n",
      "---------------\n",
      "tensor(3014, device='cuda:0')\n",
      "tensor(782, device='cuda:0')\n",
      "tensor(1007, device='cuda:0')\n",
      "!!!!!!!!!!!!!!!!!!!\n",
      "0\n",
      "myeval\n",
      "tensor(0.5797, device='cuda:0')\n",
      "tensor(0.4831, device='cuda:0')\n",
      "tensor(0.5270, device='cuda:0')\n",
      "218\n",
      "--------------------------------------\n",
      "tensor(1518, device='cuda:0')\n",
      "tensor(3845, device='cuda:0')\n",
      "tensor(28.7800, device='cuda:0')\n",
      "---------------\n",
      "tensor(3174, device='cuda:0')\n",
      "tensor(671, device='cuda:0')\n",
      "tensor(847, device='cuda:0')\n",
      "!!!!!!!!!!!!!!!!!!!\n",
      "0\n",
      "myeval\n",
      "tensor(0.6996, device='cuda:0')\n",
      "tensor(0.3330, device='cuda:0')\n",
      "tensor(0.4512, device='cuda:0')\n"
     ]
    }
   ],
   "source": [
    "\n",
    "wrongnum = 0\n",
    "totalone = 0\n",
    "for epoch in range(10):\n",
    "    global tp\n",
    "    global fp\n",
    "    global fn\n",
    "    tp = 0\n",
    "    fp = 0\n",
    "    fn = 0\n",
    "    wrongnum = 0\n",
    "    totalone = 0\n",
    "    whole_loss = 0.0\n",
    "    print(len(loader))\n",
    "    for step,(batch_x,batch_y)in enumerate(loader):\n",
    "        #if(step % 100) == 0:print(step)\n",
    "        #print(batch_x.shape)\n",
    "        batch_x = batch_x.cuda()\n",
    "        batch_y = batch_y.cuda()\n",
    "        sentence = batch_x[:,:SENTENCE_LEN]\n",
    "        pos1 = batch_x[:,SENTENCE_LEN:SENTENCE_LEN + SENTENCE_LEN]\n",
    "        pos2 = batch_x[:,SENTENCE_LEN + SENTENCE_LEN:]\n",
    "        out = mynet(sentence,pos1,pos2)\n",
    "        pred = torch.max(F.softmax(out,dim = 1),1)[1]\n",
    "        wrongnum += torch.sum(pred != batch_y)\n",
    "        totalone += torch.sum(pred)\n",
    "        loss = loss_function(out,batch_y)\n",
    "        evaluate(pred.cuda(),batch_y)\n",
    "        whole_loss += loss\n",
    "        optimizer.zero_grad()\n",
    "        loss.backward()\n",
    "        optimizer.step()\n",
    "    print(\"--------------------------------------\")\n",
    "    print(wrongnum)\n",
    "    print(totalone)\n",
    "    print(whole_loss)\n",
    "    his_loss.append(whole_loss)\n",
    "    print(\"---------------\")\n",
    "    print(tp)\n",
    "    print(fp)\n",
    "    print(fn)\n",
    "    print(\"!!!!!!!!!!!!!!!!!!!\")\n",
    "    test()"
   ]
  },
  {
   "cell_type": "code",
   "execution_count": 27,
   "metadata": {},
   "outputs": [
    {
     "name": "stdout",
     "output_type": "stream",
     "text": [
      "0\n",
      "myeval\n",
      "tensor(0.3816, device='cuda:0')\n",
      "tensor(0.6517, device='cuda:0')\n",
      "tensor(0.4813, device='cuda:0')\n"
     ]
    }
   ],
   "source": [
    "#torch.save(mynet, \"my79.pkl\")\n",
    "#torch.save(mynet.state_dict(), \"83.pa\")\n",
    "#newmynet = torch.load(\"82.pa\")\n",
    "#print(newmynet)\n",
    "#newmynet.eval()\n",
    "test()"
   ]
  },
  {
   "cell_type": "code",
   "execution_count": 26,
   "metadata": {},
   "outputs": [],
   "source": [
    "def test():\n",
    "    global tp\n",
    "    global fp\n",
    "    global fn\n",
    "    tp = 0\n",
    "    fp = 0\n",
    "    fn = 0\n",
    "    for step,(batch_x,batch_y)in enumerate(loader_test):\n",
    "            batch_x = batch_x.cuda()\n",
    "            batch_y = batch_y.cuda()\n",
    "            if(step % 100) == 0:print(step)\n",
    "\n",
    "            sentence = batch_x[:,:SENTENCE_LEN]\n",
    "            pos1 = batch_x[:,SENTENCE_LEN:SENTENCE_LEN + SENTENCE_LEN]\n",
    "            pos2 = batch_x[:,SENTENCE_LEN + SENTENCE_LEN:]\n",
    "            out = mynet(sentence,pos1,pos2)\n",
    "            pred = torch.max(F.softmax(out,dim = 1),1)[1]\n",
    "            #print(pred)\n",
    "            #print(batch_y)\n",
    "            evaluate(pred.cuda(),batch_y.cuda())\n",
    "    print(\"myeval\")\n",
    "    print(whole_eval())"
   ]
  },
  {
   "cell_type": "code",
   "execution_count": null,
   "metadata": {},
   "outputs": [],
   "source": [
    "print(his_loss)\n",
    "print(wrongnum)\n",
    "print(totalone)"
   ]
  },
  {
   "cell_type": "code",
   "execution_count": null,
   "metadata": {},
   "outputs": [],
   "source": [
    "print(tp)\n",
    "print(fp)\n",
    "print(fn)"
   ]
  },
  {
   "cell_type": "code",
   "execution_count": null,
   "metadata": {},
   "outputs": [],
   "source": [
    "whole_eval()"
   ]
  }
 ],
 "metadata": {
  "kernelspec": {
   "display_name": "Python 3",
   "language": "python",
   "name": "python3"
  },
  "language_info": {
   "codemirror_mode": {
    "name": "ipython",
    "version": 3
   },
   "file_extension": ".py",
   "mimetype": "text/x-python",
   "name": "python",
   "nbconvert_exporter": "python",
   "pygments_lexer": "ipython3",
   "version": "3.6.8"
  }
 },
 "nbformat": 4,
 "nbformat_minor": 2
}
