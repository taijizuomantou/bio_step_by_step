{
 "cells": [
  {
   "cell_type": "code",
   "execution_count": 2,
   "metadata": {},
   "outputs": [],
   "source": [
    "import xml.etree.ElementTree as ET\n",
    "from nltk.corpus import stopwords\n",
    "from nltk.tokenize import word_tokenize\n",
    "import os"
   ]
  },
  {
   "cell_type": "code",
   "execution_count": 15,
   "metadata": {},
   "outputs": [
    {
     "name": "stderr",
     "output_type": "stream",
     "text": [
      "[nltk_data] Downloading package punkt to /home/xue/nltk_data...\n",
      "[nltk_data]   Unzipping tokenizers/punkt.zip.\n"
     ]
    },
    {
     "data": {
      "text/plain": [
       "True"
      ]
     },
     "execution_count": 15,
     "metadata": {},
     "output_type": "execute_result"
    }
   ],
   "source": [
    "import nltk\n",
    "nltk.download('punkt')"
   ]
  },
  {
   "cell_type": "code",
   "execution_count": 3,
   "metadata": {},
   "outputs": [],
   "source": [
    "def read_xml(path):\n",
    "    tree = ET.parse(path)\n",
    "    return tree"
   ]
  },
  {
   "cell_type": "code",
   "execution_count": 44,
   "metadata": {},
   "outputs": [],
   "source": [
    "\n",
    "def change_sentece(charOffset,sent,char_drug):\n",
    "    posCollect = charOffset.split(';')\n",
    "    anssent = sent\n",
    "    for pos in posCollect:\n",
    "        drug = \"\"\n",
    "        pos_begin,pos_end = pos.split('-')\n",
    "        pos_begin = int(pos_begin) \n",
    "        pos_end = int(pos_end) \n",
    "        for i in range(pos_begin,pos_end + 1):\n",
    "            if(anssent[i] == 'A' or anssent[i] == 'B'):\n",
    "                anssent = anssent[0:i] + ' ' + anssent[i + 1:]\n",
    "            else:\n",
    "                anssent =  anssent[0:i] + char_drug + anssent[i + 1:]\n",
    "    return anssent"
   ]
  },
  {
   "cell_type": "code",
   "execution_count": 39,
   "metadata": {},
   "outputs": [],
   "source": [
    "def A_to_drugA_onece_again(sentence,charr):\n",
    "    anssentence = sentence\n",
    "    length = len(anssentence)\n",
    "    for i in range(length):\n",
    "        if (anssentence[i] == charr):\n",
    "            anssentence[i] = ' '\n",
    "    return anssentence"
   ]
  },
  {
   "cell_type": "code",
   "execution_count": 147,
   "metadata": {},
   "outputs": [],
   "source": [
    "def A_to_drugA(sentence,charr):\n",
    "    anssentence = sentence\n",
    "    num = 0\n",
    "    while(True) :\n",
    "        flag = False\n",
    "        length = len(anssentence)\n",
    "        begin = -1\n",
    "        end = length - 1\n",
    "        for i in range(length):\n",
    "            if anssentence[i] == charr:\n",
    "                if begin == -1:\n",
    "                    begin = i\n",
    "                    num += 1\n",
    "                    flag = True\n",
    "            elif begin != -1:\n",
    "                anssentence = anssentence[:begin] + \" drug\" + charr.lower() + \" \" + anssentence[i:]\n",
    "                begin = -1   \n",
    "                break\n",
    "        if begin != -1:anssentence = anssentence[:begin] + \" drug\" + charr.lower() + \" \"\n",
    "       # print(anssentence)\n",
    "        if flag == False:break\n",
    "    if charr == 'A':\n",
    "        if(num != 1) :\n",
    "            print('A: '+ sentence + str(num))\n",
    "\n",
    "    if charr == 'B':\n",
    "        if(num != 1) :\n",
    "            print('B: '+ sentence+ str(num))\n",
    "    return anssentence"
   ]
  },
  {
   "cell_type": "code",
   "execution_count": 141,
   "metadata": {},
   "outputs": [
    {
     "name": "stdout",
     "output_type": "stream",
     "text": [
      "B: AAAAAAAAAAAAAAA AAAAAAAAAAAAAa BBBBBbb BBB2\n"
     ]
    },
    {
     "data": {
      "text/plain": [
       "'AAAAAAAAAAAAAAA AAAAAAAAAAAAAa  drugb bb  drugb '"
      ]
     },
     "execution_count": 141,
     "metadata": {},
     "output_type": "execute_result"
    }
   ],
   "source": [
    "A_to_drugA(\"AAAAAAAAAAAAAAA AAAAAAAAAAAAAa BBBBBbb BBB\",'B')"
   ]
  },
  {
   "cell_type": "code",
   "execution_count": 78,
   "metadata": {},
   "outputs": [],
   "source": [
    "def nltk_and_drugA(sentence):\n",
    "    sent = sentence\n",
    "    sent = A_to_drugA(sent,'A')\n",
    "    sent = A_to_drugA(sent,'B')\n",
    "    sent = A_to_drugA(sent,'N')\n",
    "    nltk_text = word_tokenize(sent)\n",
    "    words = nltk_text\n",
    "    #word_no_stop = [word for word in word_lower if word not in stopwords.words('english')]\n",
    "    #return \" \".join(word_no_stop)  \n",
    "    return \" \".join(words)"
   ]
  },
  {
   "cell_type": "code",
   "execution_count": 148,
   "metadata": {},
   "outputs": [],
   "source": [
    "def create_dict(root,idd):\n",
    "    fout = open(\"train.txt\",\"a\")\n",
    "    fout2 = open(\"sentence.txt\",\"a\")\n",
    "    for sentence in (root):\n",
    "        entity_pos = {}\n",
    "        entity_ids = []\n",
    "        entity_text = {}\n",
    "        mysentece = sentence.attrib[\"text\"].lower()\n",
    "        fout2.write(mysentece + \"\\n\")\n",
    "        for entity in sentence:\n",
    "            if entity.tag == \"entity\":\n",
    "                entity_pos[entity.attrib[\"id\"]] = entity.attrib[\"charOffset\"]\n",
    "                entity_text[entity.attrib[\"id\"]] = entity.attrib[\"text\"]\n",
    "                entity_ids.append(entity.attrib[\"id\"])\n",
    "        for pair in sentence:\n",
    "            if pair.tag == \"pair\":\n",
    "                new_sent = mysentece\n",
    "                for entity_id in entity_ids:\n",
    "                    if entity_id == pair.attrib[\"e1\"] :\n",
    "                        new_sent =change_sentece(entity_pos[entity_id],new_sent,\"A\")\n",
    "                    elif entity_id == pair.attrib[\"e2\"]:\n",
    "                        new_sent =change_sentece(entity_pos[entity_id],new_sent,\"B\") \n",
    "                    else:\n",
    "                        new_sent =change_sentece(entity_pos[entity_id],new_sent,\"N\")\n",
    "                new_sent = nltk_and_drugA(new_sent)\n",
    "                typee = pair.attrib[\"ddi\"]\n",
    "                if pair.get(\"type\"):\n",
    "                    typee = pair.attrib[\"type\"]\n",
    "               # print(new_sent)\n",
    "               # print(typee)\n",
    "                #fout.write(str(idd)+\"\\n\")\n",
    "                \n",
    "                fout.write(new_sent + \"\\n\")\n",
    "                fout.write(typee +\"\\n\")\n",
    "                idd += 1\n",
    "    return idd"
   ]
  },
  {
   "cell_type": "code",
   "execution_count": 151,
   "metadata": {},
   "outputs": [
    {
     "name": "stdout",
     "output_type": "stream",
     "text": [
      "B: the objective of this study was to evaluate the effect of oral administration of  druga  (NNNN) on the humoral immune responses of chickens to BBBBBBBBBBBNNN and BB BBBBBBBB. 3\n",
      "B: the objective of this study was to evaluate the effect of oral administration of NNNNNNNNNNNNNNNNNNNNNNNNNNNNNN ( druga ) on the humoral immune responses of chickens to BBBBBBBBBBBNNN and BB BBBBBBBB. 3\n",
      "B: in conclusion, we demonstrated an isolated effect of  druga  (as chloride) on absorption of 5 mg of iron provided as NNNNNNN (as sulfate) and BBBB (as crbc) BBBB. 2\n"
     ]
    }
   ],
   "source": [
    "#file_path = \"Train/MedLine/\"\n",
    "#file_path = \"Test/Test_data_DDI/MedLine\"\n",
    "files = os.listdir(file_path)\n",
    "idd = 0\n",
    "for file in files:\n",
    "    #print(file)\n",
    "    path = os.path.join(file_path,file)\n",
    "    tree = read_xml(path)\n",
    "    idd = create_dict(tree.getroot(),idd)\n",
    "   # print(idd)\n",
    "#\"mg administered daily for 5 days did not affect the pharmacokinetics\n",
    "#B: the objective of this study was to evaluate the effect of oral administration of  druga  (NNNN) on the humoral immune responses of chickens to BBBBBBBBBBBNNN and BB BBBBBBBB. 3\n",
    "#B: the objective of this study was to evaluate the effect of oral administration of NNNNNNNNNNNNNNNNNNNNNNNNNNNNNN ( druga ) on the humoral immune responses of chickens to BBBBBBBBBBBNNN and BB BBBBBBBB. 3\n",
    "#B: in conclusion, we demonstrated an isolated effect of  druga  (as chloride) on absorption of 5 mg of iron provided as NNNNNNN (as sulfate) and BBBB (as crbc) BBBB. 2\n"
   ]
  },
  {
   "cell_type": "code",
   "execution_count": null,
   "metadata": {},
   "outputs": [],
   "source": [
    "'''\n",
    "def create_dict(root,idd):\n",
    "    fout = open(\"replace_text0.txt\",\"w\")\n",
    "    #fout = open(\"origin.txt\",\"a\")\n",
    "    for sentence in (root):\n",
    "        entity_pos = {}\n",
    "        entity_ids = []\n",
    "        entity_text = {}\n",
    "        mysentece = sentence.attrib[\"text\"]\n",
    "        for entity in sentence:\n",
    "            if entity.tag == \"entity\":\n",
    "                entity_pos[entity.attrib[\"id\"]] = entity.attrib[\"charOffset\"]\n",
    "                entity_text[entity.attrib[\"id\"]] = entity.attrib[\"text\"]\n",
    "                entity_ids.append(entity.attrib[\"id\"])\n",
    "        for pair in sentence:\n",
    "            if pair.tag == \"pair\":\n",
    "                flag = False\n",
    "                new_sent = mysentece\n",
    "                if new_sent.find(\"The objective of this study was to evaluate the effect of oral administra\")!=-1:\n",
    "                    continue\n",
    "                if new_sent.find(\"the absorption of 5 milligrams of nonheme or heme iron\")!= -1:\n",
    "                    continue\n",
    "                if new_sent.find(\"known component in the diet that may affect absorption\")!= -1:\n",
    "                    continue\n",
    "                if new_sent.find(\"on absorption of nonheme and heme iron and the dose response\")!= -1:\n",
    "                    continue\n",
    "                if new_sent.find(\"In conclusion, we demonstrated an isolated effect of\")!= -1:\n",
    "                    continue\n",
    "                for entity_id in entity_ids:\n",
    "                    \n",
    "                    if entity_id == pair.attrib[\"e1\"] :\n",
    "                        if(flag):\n",
    "                            print(\"A\")\n",
    "                            print(entity_text[entity_id])\n",
    "                        new_sent =change_word(entity_text[entity_id],new_sent,\"A\")\n",
    "                        \n",
    "                            \n",
    "                    elif entity_id == pair.attrib[\"e2\"]:\n",
    "                        if(flag):\n",
    "                            print(\"B\")\n",
    "                            print(entity_text[entity_id])\n",
    "                        if(new_sent is None):\n",
    "                            print(\"!@######################\")\n",
    "                            print(entity_text[entity_id])\n",
    "                        new_sent =change_word(entity_text[entity_id],new_sent,\"B\") \n",
    "                    else:\n",
    "                        if(flag):\n",
    "                            print(\"N\")\n",
    "                            print(entity_text[entity_id])\n",
    "                        if(new_sent is None):\n",
    "                            print(\"!@######################\")\n",
    "                            print(entity_text[entity_id])\n",
    "                        new_sent =change_word(entity_text[entity_id],new_sent,\"N\")\n",
    "                        if(new_sent is None):\n",
    "                            print(\"!@######################\")\n",
    "                            print(entity_text[entity_id])\n",
    "                #new_sent = nltk_and_drugA(new_sent)\n",
    "                if(new_sent is None):\n",
    "                    print(\"!@######################\")\n",
    "                    print(mysentece)\n",
    "                typee = pair.attrib[\"ddi\"]\n",
    "                if pair.get(\"type\"):\n",
    "                    typee = pair.attrib[\"type\"]\n",
    "               # print(new_sent)\n",
    "               # print(typee)\n",
    "                #fout.write(str(idd)+\"\\n\")\n",
    "                fout.write(new_sent + \"\\n\")\n",
    "                fout.write(typee +\"\\n\")\n",
    "                idd += 1\n",
    "    return idd\n",
    "'''            \n"
   ]
  },
  {
   "cell_type": "code",
   "execution_count": null,
   "metadata": {
    "scrolled": true
   },
   "outputs": [],
   "source": []
  },
  {
   "cell_type": "code",
   "execution_count": null,
   "metadata": {},
   "outputs": [],
   "source": [
    "def go_through_file:\n",
    "    files = os.listdir(filepath)\n",
    "      for fi in files:\n",
    "        fi_d = os.path.join(filepath,fi)            \n",
    "        if os.path.isdir(fi_d):\n",
    "          gci(fi_d)                  \n",
    "        else:\n",
    "          print os.path.join(filepath,fi_d)"
   ]
  },
  {
   "cell_type": "code",
   "execution_count": null,
   "metadata": {},
   "outputs": [],
   "source": [
    "print(whole_num)\n",
    "global whole_num = 0"
   ]
  }
 ],
 "metadata": {
  "kernelspec": {
   "display_name": "Python 3",
   "language": "python",
   "name": "python3"
  },
  "language_info": {
   "codemirror_mode": {
    "name": "ipython",
    "version": 3
   },
   "file_extension": ".py",
   "mimetype": "text/x-python",
   "name": "python",
   "nbconvert_exporter": "python",
   "pygments_lexer": "ipython3",
   "version": "3.6.8"
  }
 },
 "nbformat": 4,
 "nbformat_minor": 2
}
