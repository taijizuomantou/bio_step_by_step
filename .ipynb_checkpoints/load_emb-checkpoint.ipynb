{
 "cells": [
  {
   "cell_type": "code",
   "execution_count": 10,
   "metadata": {},
   "outputs": [],
   "source": [
    "from itertools import izip\n",
    "import numpy as np\n"
   ]
  },
  {
   "cell_type": "code",
   "execution_count": 9,
   "metadata": {},
   "outputs": [],
   "source": [
    "def load_emb(types_file, emb_file):\n",
    "    emb = {}\n",
    "    with open(types_file, 'r') as types_f, open(emb_file, 'r') as emb_f:\n",
    "            for line1, line2 in izip(types_f, emb_f):\n",
    "                line2 = line2.strip()\n",
    "                emb[line1.strip('\\r\\n').decode('UTF-8', 'ignore')] = np.array(map(float, line2.split(' ')), dtype=np.float32)\n",
    "    return emb"
   ]
  },
  {
   "cell_type": "code",
   "execution_count": 12,
   "metadata": {},
   "outputs": [],
   "source": [
    "emb = load_emb(\"data/types.txt\",\"data/vectors.txt\")"
   ]
  },
  {
   "cell_type": "code",
   "execution_count": 14,
   "metadata": {},
   "outputs": [
    {
     "name": "stdout",
     "output_type": "stream",
     "text": [
      "1701632\n"
     ]
    }
   ],
   "source": [
    "print(len(emb))"
   ]
  },
  {
   "cell_type": "code",
   "execution_count": 40,
   "metadata": {},
   "outputs": [],
   "source": [
    "def go_through_file(file,mydict):\n",
    "    count = 0\n",
    "    for line in (file):\n",
    "        count += 1\n",
    "        if(count % 2 == 0):continue\n",
    "        words = line.lower().split()\n",
    "        for word in words:\n",
    "         #   print(word)\n",
    "            if mydict.get(word):\n",
    "                mydict[word] += 1\n",
    "            else:\n",
    "                mydict[word] = 1\n",
    "              #  print(word)\n",
    "        "
   ]
  },
  {
   "cell_type": "code",
   "execution_count": 41,
   "metadata": {},
   "outputs": [],
   "source": [
    "f_train = open(\"train7.txt\",\"r\")\n",
    "mydict = {}\n",
    "go_through_file(f_train,mydict)"
   ]
  },
  {
   "cell_type": "code",
   "execution_count": 59,
   "metadata": {},
   "outputs": [
    {
     "name": "stdout",
     "output_type": "stream",
     "text": [
      "4813\n"
     ]
    }
   ],
   "source": [
    "print(len(mydict))"
   ]
  },
  {
   "cell_type": "code",
   "execution_count": 54,
   "metadata": {},
   "outputs": [],
   "source": [
    "word2index = {}\n",
    "i = 0\n",
    "with open(\"data/types.txt\", 'r') as  f:\n",
    "    for line in f:\n",
    "        word = line.strip()\n",
    "        word2index[word] = i\n",
    "        i += 1"
   ]
  },
  {
   "cell_type": "code",
   "execution_count": 61,
   "metadata": {},
   "outputs": [
    {
     "name": "stdout",
     "output_type": "stream",
     "text": [
      "956431\n",
      "1529740\n",
      "1464717\n",
      "837105\n",
      "270324\n",
      "837097\n",
      "1658445\n",
      "865744\n",
      "1216541\n",
      "666786\n",
      "704831\n",
      "1165949\n",
      "1472651\n",
      "306018\n"
     ]
    },
    {
     "ename": "KeyError",
     "evalue": "'2.3-fold'",
     "output_type": "error",
     "traceback": [
      "\u001b[0;31m---------------------------------------------------------------------------\u001b[0m",
      "\u001b[0;31mKeyError\u001b[0m                                  Traceback (most recent call last)",
      "\u001b[0;32m<ipython-input-61-39db66f4167a>\u001b[0m in \u001b[0;36m<module>\u001b[0;34m()\u001b[0m\n\u001b[1;32m      2\u001b[0m \u001b[0;34m\u001b[0m\u001b[0m\n\u001b[1;32m      3\u001b[0m \u001b[0;32mfor\u001b[0m \u001b[0mword\u001b[0m \u001b[0;32min\u001b[0m \u001b[0mmydict\u001b[0m\u001b[0;34m:\u001b[0m\u001b[0;34m\u001b[0m\u001b[0m\n\u001b[0;32m----> 4\u001b[0;31m     \u001b[0;32mprint\u001b[0m\u001b[0;34m(\u001b[0m\u001b[0mword2index\u001b[0m\u001b[0;34m[\u001b[0m\u001b[0mword\u001b[0m\u001b[0;34m]\u001b[0m\u001b[0;34m)\u001b[0m\u001b[0;34m\u001b[0m\u001b[0m\n\u001b[0m\u001b[1;32m      5\u001b[0m    \u001b[0;31m# exists[] = True\u001b[0m\u001b[0;34m\u001b[0m\u001b[0;34m\u001b[0m\u001b[0m\n",
      "\u001b[0;31mKeyError\u001b[0m: '2.3-fold'"
     ]
    }
   ],
   "source": [
    "exists = [0] * 2000000\n",
    "\n",
    "for word in mydict:\n",
    "    exists[word2index[word]] = True"
   ]
  },
  {
   "cell_type": "code",
   "execution_count": 33,
   "metadata": {},
   "outputs": [
    {
     "name": "stdout",
     "output_type": "stream",
     "text": [
      "5398\n"
     ]
    }
   ],
   "source": [
    "print(len(mydict))"
   ]
  }
 ],
 "metadata": {
  "kernelspec": {
   "display_name": "Python 2",
   "language": "python",
   "name": "python2"
  },
  "language_info": {
   "codemirror_mode": {
    "name": "ipython",
    "version": 2
   },
   "file_extension": ".py",
   "mimetype": "text/x-python",
   "name": "python",
   "nbconvert_exporter": "python",
   "pygments_lexer": "ipython2",
   "version": "2.7.15"
  }
 },
 "nbformat": 4,
 "nbformat_minor": 2
}
