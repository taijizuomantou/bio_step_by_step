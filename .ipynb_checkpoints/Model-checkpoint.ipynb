{
 "cells": [
  {
   "cell_type": "code",
   "execution_count": null,
   "metadata": {},
   "outputs": [],
   "source": [
    "import torch\n",
    "import torch.nn as nn\n",
    "import torch.nn.functional as F\n",
    "import torch.nn.functional as F\n",
    "import torch.optim as optim\n",
    "import numpy as np\n",
    "import torch.utils.data as Data\n",
    "torch.manual_seed(1)"
   ]
  },
  {
   "cell_type": "code",
   "execution_count": 60,
   "metadata": {},
   "outputs": [],
   "source": [
    "VOCAB_SIZE = 4346\n",
    "EMBEDDING_SIZE = 200\n",
    "HIDDEN_SIZE = 200\n",
    "TARGET_SIZE = 2\n",
    "SENTENCE_LEN = 103\n",
    "BATCH_SIZE = 16"
   ]
  },
  {
   "cell_type": "code",
   "execution_count": 117,
   "metadata": {},
   "outputs": [],
   "source": [
    "class SimpleLSTM(nn.Module):\n",
    "    def __init__(self,vocab_size,embedding_size,hidden_size,target_size):\n",
    "        super(SimpleLSTM,self).__init__()\n",
    "        self.embed = nn.Embedding(vocab_size,embedding_size)\n",
    "        self.lstm = nn.LSTM(embedding_size,hidden_size)\n",
    "        self.linear = nn.Linear(hidden_size,target_size)\n",
    "    def forward(self,sentence):\n",
    "        myembed = self.embed(sentence)\n",
    "        output,_ = self.lstm(myembed.view(-1,SENTENCE_LEN,EMBEDDING_SIZE))\n",
    "        predict = self.linear(output.view(TARGET_SIZE,-1))\n",
    "        return predict        "
   ]
  },
  {
   "cell_type": "code",
   "execution_count": 118,
   "metadata": {},
   "outputs": [
    {
     "name": "stdout",
     "output_type": "stream",
     "text": [
      "SimpleLSTM(\n",
      "  (embed): Embedding(4346, 200)\n",
      "  (lstm): LSTM(200, 200)\n",
      "  (linear): Linear(in_features=200, out_features=2, bias=True)\n",
      ")\n"
     ]
    }
   ],
   "source": [
    "mynet = SimpleLSTM(VOCAB_SIZE,EMBEDDING_SIZE,HIDDEN_SIZE,TARGET_SIZE)\n",
    "print(mynet)"
   ]
  },
  {
   "cell_type": "code",
   "execution_count": 120,
   "metadata": {},
   "outputs": [],
   "source": [
    "origin_y = []\n",
    "with open(\"input_label.txt\",\"r\") as f:\n",
    "    for line in f:\n",
    "        origin_y.append(int(line))\n",
    "\n",
    "        "
   ]
  },
  {
   "cell_type": "code",
   "execution_count": 121,
   "metadata": {},
   "outputs": [],
   "source": [
    "origin_x = []\n",
    "with open(\"input_pad.txt\",\"r\") as f:\n",
    "    for line in f:\n",
    "        words = line.split()\n",
    "        assert len(words) == SENTENCE_LEN,\"sentence pad\"\n",
    "        for word in words:\n",
    "\n",
    "            origin_x.append(int(word))\n",
    "            "
   ]
  },
  {
   "cell_type": "code",
   "execution_count": 122,
   "metadata": {},
   "outputs": [
    {
     "name": "stdout",
     "output_type": "stream",
     "text": [
      "(27792, 103)\n"
     ]
    }
   ],
   "source": [
    "numpx = np.array(origin_x)\n",
    "numpx = numpx.reshape(-1,SENTENCE_LEN)\n",
    "x = torch.from_numpy(numpx)\n",
    "print(x.numpy().shape)"
   ]
  },
  {
   "cell_type": "code",
   "execution_count": 123,
   "metadata": {},
   "outputs": [
    {
     "name": "stdout",
     "output_type": "stream",
     "text": [
      "(27792,)\n"
     ]
    }
   ],
   "source": [
    "numpy = np.array(origin_y)\n",
    "y = torch.from_numpy(numpy)\n",
    "print(y.numpy().shape)\n"
   ]
  },
  {
   "cell_type": "code",
   "execution_count": 96,
   "metadata": {},
   "outputs": [
    {
     "name": "stdout",
     "output_type": "stream",
     "text": [
      "tensor([[ 2386,  3953,  3497],\n",
      "        [ 3107,  3052,   534],\n",
      "        [ 3107,  3052,   534],\n",
      "        [ 3107,  3052,   534],\n",
      "        [ 3107,  3052,   534],\n",
      "        [ 3107,  3052,   534],\n",
      "        [ 3107,  3052,   534],\n",
      "        [ 3107,  3052,   534],\n",
      "        [ 3107,  3052,   534],\n",
      "        [ 3107,  3052,   534]])\n",
      "tensor([ 0,  0,  0,  0,  0,  0,  0,  0,  0,  0])\n"
     ]
    }
   ],
   "source": [
    "torch_dataset = Data.TensorDataset(x,y)\n",
    "loader = Data.DataLoader(\n",
    "    dataset = torch_dataset,\n",
    "    batch_size = BATCH_SIZE,\n",
    "    shuffle = True,\n",
    "    num_workers = 2\n",
    ")"
   ]
  },
  {
   "cell_type": "code",
   "execution_count": 97,
   "metadata": {},
   "outputs": [],
   "source": [
    "loss_function = nn.CrossEntropyLoss()\n",
    "optimizer = optim.SGD(mynet.parameters(), lr=0.1)"
   ]
  },
  {
   "cell_type": "code",
   "execution_count": null,
   "metadata": {},
   "outputs": [],
   "source": [
    "for t in range(10):\n",
    "    for epoch in range(3):\n",
    "    for step,(batch_x,batch_y)in enumerate(loader):\n",
    "        \n",
    "        out = mynet(batch_x)\n",
    "        print(out)\n",
    "      #  pred = torch.max(F.softmax(out),1)[1]\n",
    "       # print(pred)\n",
    "       # print(out)\n",
    "        #print(y)\n",
    "\n",
    "        loss = loss_function(out,batch_y)\n",
    "        optimizer.zero_grad()\n",
    "        loss.backward()\n",
    "        optimizer.step()\n",
    "    #print(pred)\n",
    "    #print(loss)"
   ]
  },
  {
   "cell_type": "code",
   "execution_count": null,
   "metadata": {},
   "outputs": [],
   "source": [
    "\n"
   ]
  }
 ],
 "metadata": {
  "kernelspec": {
   "display_name": "Python 3",
   "language": "python",
   "name": "python3"
  },
  "language_info": {
   "codemirror_mode": {
    "name": "ipython",
    "version": 3
   },
   "file_extension": ".py",
   "mimetype": "text/x-python",
   "name": "python",
   "nbconvert_exporter": "python",
   "pygments_lexer": "ipython3",
   "version": "3.6.8"
  }
 },
 "nbformat": 4,
 "nbformat_minor": 2
}
