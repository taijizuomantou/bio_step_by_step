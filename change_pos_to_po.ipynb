{
 "cells": [
  {
   "cell_type": "code",
   "execution_count": 21,
   "metadata": {},
   "outputs": [],
   "source": [
    "BIAS = 152 #1000 and 152 \n",
    "MAXX = 152+148"
   ]
  },
  {
   "cell_type": "code",
   "execution_count": 25,
   "metadata": {},
   "outputs": [],
   "source": [
    "fout = open(\"test_pos_B.txt\",\"w\")\n",
    "with open(\"data_mid/test_pos_B.txt\",\"r\") as f:\n",
    "    for line in f:\n",
    "        words = line.split()\n",
    "        for word in words:\n",
    "            if(word != \"1000\"):\n",
    "                fout.write(str(int(word)+BIAS) + \" \")\n",
    "            else:\n",
    "                fout.write(\"1000\" + \" \")\n",
    "        fout.write(\"\\n\")"
   ]
  },
  {
   "cell_type": "code",
   "execution_count": 19,
   "metadata": {},
   "outputs": [
    {
     "name": "stdout",
     "output_type": "stream",
     "text": [
      "-152\n",
      "148\n"
     ]
    }
   ],
   "source": [
    "print(minx)\n",
    "print(maxx)"
   ]
  }
 ],
 "metadata": {
  "kernelspec": {
   "display_name": "Python 3",
   "language": "python",
   "name": "python3"
  },
  "language_info": {
   "codemirror_mode": {
    "name": "ipython",
    "version": 3
   },
   "file_extension": ".py",
   "mimetype": "text/x-python",
   "name": "python",
   "nbconvert_exporter": "python",
   "pygments_lexer": "ipython3",
   "version": "3.6.8"
  }
 },
 "nbformat": 4,
 "nbformat_minor": 2
}
