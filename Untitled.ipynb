{
 "cells": [
  {
   "cell_type": "code",
   "execution_count": 84,
   "metadata": {
    "scrolled": true
   },
   "outputs": [
    {
     "name": "stdout",
     "output_type": "stream",
     "text": [
      "mike:99\n",
      "lisa:30\n",
      "C\n"
     ]
    }
   ],
   "source": [
    "class Student(object):\n",
    "    def __init__(self,name,score):\n",
    "        self.name = name\n",
    "        self.score = score\n",
    "    def print_score(self):\n",
    "        print('{}:{}'.format(self.name,self.score))\n",
    "    def get_grade(self):\n",
    "        if self.score >= 90:\n",
    "            return \"A\"\n",
    "        elif self.score >= 60:\n",
    "            return \"B\"\n",
    "        else:\n",
    "            return \"C\"\n",
    "    \n",
    "a = Student('mike',99)\n",
    "b = Student('lisa',30)\n",
    "a.print_score()\n",
    "b.print_score()\n",
    "print(b.get_grade())"
   ]
  },
  {
   "cell_type": "code",
   "execution_count": 1,
   "metadata": {},
   "outputs": [],
   "source": [
    "import torch"
   ]
  },
  {
   "cell_type": "code",
   "execution_count": 3,
   "metadata": {},
   "outputs": [],
   "source": [
    "import numpy as np"
   ]
  },
  {
   "cell_type": "code",
   "execution_count": 8,
   "metadata": {},
   "outputs": [
    {
     "name": "stdout",
     "output_type": "stream",
     "text": [
      "tensor([3., 4.])\n",
      "tensor([4., 4.])\n",
      "tensor([[-0.8989, -0.5123, -2.2628,  0.3752],\n",
      "        [ 0.3611, -0.4758,  0.7681, -1.4962],\n",
      "        [ 1.0481, -2.3021,  1.6014,  0.8783]])\n"
     ]
    }
   ],
   "source": [
    "x1 = torch.Tensor([3,4])\n",
    "x2 = torch.FloatTensor([4,4])\n",
    "x3 = torch.randn(3,4)\n",
    "print(x1)\n",
    "print(x2)\n",
    "print(x3)"
   ]
  },
  {
   "cell_type": "code",
   "execution_count": 24,
   "metadata": {},
   "outputs": [
    {
     "name": "stdout",
     "output_type": "stream",
     "text": [
      "torch.Size([3, 5])\n",
      "15\n"
     ]
    }
   ],
   "source": [
    "numpy_tensor = np.random.randn(3,5)\n",
    "pytorch_tensor1 = torch.Tensor(numpy_tensor)\n",
    "pytorch_tensor2 = torch.from_numpy(numpy_tensor)\n",
    "#print(pytorch_tensor1)\n",
    "#print(pytorch_tensor2)\n",
    "pt1 = pytorch_tensor1\n",
    "print(pt1.shape)\n",
    "print(pt1.numel())"
   ]
  },
  {
   "cell_type": "code",
   "execution_count": 31,
   "metadata": {},
   "outputs": [
    {
     "name": "stdout",
     "output_type": "stream",
     "text": [
      "float64\n"
     ]
    }
   ],
   "source": [
    "mytorch = torch.randn(3,2)\n",
    "mytorch = mytorch.type(torch.DoubleTensor)\n",
    "mynumpy = mytorch.numpy()\n",
    "print(mynumpy.dtype)"
   ]
  },
  {
   "cell_type": "code",
   "execution_count": 41,
   "metadata": {
    "scrolled": true
   },
   "outputs": [
    {
     "name": "stdout",
     "output_type": "stream",
     "text": [
      "tensor([[-1.3030,  0.1863],\n",
      "        [-1.0772, -0.8897]])\n",
      "tensor(0.1863)\n"
     ]
    }
   ],
   "source": [
    "x = torch.randn(2,2)\n",
    "print(x)\n",
    "y = x.max()\n",
    "print(y)"
   ]
  }
 ],
 "metadata": {
  "kernelspec": {
   "display_name": "Python 3",
   "language": "python",
   "name": "python3"
  },
  "language_info": {
   "codemirror_mode": {
    "name": "ipython",
    "version": 3
   },
   "file_extension": ".py",
   "mimetype": "text/x-python",
   "name": "python",
   "nbconvert_exporter": "python",
   "pygments_lexer": "ipython3",
   "version": "3.6.8"
  }
 },
 "nbformat": 4,
 "nbformat_minor": 2
}
