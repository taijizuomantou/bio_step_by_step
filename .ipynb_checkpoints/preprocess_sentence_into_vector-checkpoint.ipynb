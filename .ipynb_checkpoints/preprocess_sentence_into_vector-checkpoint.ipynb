{
 "cells": [
  {
   "cell_type": "code",
   "execution_count": 1,
   "metadata": {},
   "outputs": [],
   "source": [
    "word2index = {}\n",
    "with open(\"data_mid/used_word.txt\", 'r') as  f:\n",
    "    i = 0\n",
    "    for line in f:\n",
    "        word = line.split()\n",
    "        word2index[word[0]] = i\n",
    "        i += 1"
   ]
  },
  {
   "cell_type": "code",
   "execution_count": 35,
   "metadata": {},
   "outputs": [],
   "source": [
    "'''\n",
    "fout_text = open(\"data_mid/train_text.txt\",\"w\")\n",
    "fout_label = open(\"data_mid/train_label.txt\",\"w\")\n",
    "i = 0\n",
    "with open(\"train7.txt\", 'r') as  f:\n",
    "    for line in f:\n",
    "        if i%2 == 0:fout_text.write(line)\n",
    "        else :fout_label.write(line)\n",
    "        i += 1\n",
    "'''     "
   ]
  },
  {
   "cell_type": "code",
   "execution_count": 2,
   "metadata": {},
   "outputs": [],
   "source": [
    "MAXLEN = 4878\n",
    "DIS = 155\n",
    "fout = open(\"test_input.txt\",\"w\")\n",
    "fout2 = open(\"test_input_pad.txt\",\"w\")\n",
    "with open(\"data_mid/test_text.txt\", 'r') as  f:\n",
    "    for line in f:\n",
    "        words = line.split()\n",
    "        for word in words:\n",
    "            #print(word)\n",
    "            if word2index.get(word):\n",
    "                fout.write(str(word2index[word]))\n",
    "                fout2.write(str(word2index[word]))\n",
    "            else:\n",
    "                fout.write(str(MAXLEN))\n",
    "                fout2.write(str(MAXLEN))\n",
    "            fout.write(\" \")\n",
    "            fout2.write(\" \")\n",
    "        for i in range(len(words),DIS):\n",
    "            fout2.write(str(MAXLEN))\n",
    "            fout2.write(\" \")\n",
    "     #       print(word2index[word])\n",
    "        fout.write(\"\\n\")\n",
    "        fout2.write(\"\\n\")"
   ]
  },
  {
   "cell_type": "code",
   "execution_count": 40,
   "metadata": {},
   "outputs": [],
   "source": []
  },
  {
   "cell_type": "code",
   "execution_count": 41,
   "metadata": {},
   "outputs": [
    {
     "name": "stdout",
     "output_type": "stream",
     "text": [
      "103\n"
     ]
    }
   ],
   "source": []
  }
 ],
 "metadata": {
  "kernelspec": {
   "display_name": "Python 3",
   "language": "python",
   "name": "python3"
  },
  "language_info": {
   "codemirror_mode": {
    "name": "ipython",
    "version": 3
   },
   "file_extension": ".py",
   "mimetype": "text/x-python",
   "name": "python",
   "nbconvert_exporter": "python",
   "pygments_lexer": "ipython3",
   "version": "3.6.8"
  }
 },
 "nbformat": 4,
 "nbformat_minor": 2
}
