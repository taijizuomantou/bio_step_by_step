{
 "cells": [
  {
   "cell_type": "code",
   "execution_count": 21,
   "metadata": {},
   "outputs": [
    {
     "name": "stdout",
     "output_type": "stream",
     "text": [
      "tensor([[[-0.0491, -0.8193,  0.2210],\n",
      "         [-1.4051,  0.3500, -0.4543],\n",
      "         [-0.3861,  0.1481, -0.8851],\n",
      "         [ 0.5885, -0.5490, -2.0274],\n",
      "         [-0.3487, -1.5079,  0.2624],\n",
      "         [ 0.9531,  1.2678,  0.2727],\n",
      "         [-1.5148, -1.0978, -0.2168],\n",
      "         [ 0.5110,  1.1195,  1.9598],\n",
      "         [ 1.3409,  0.7147, -0.3159],\n",
      "         [-0.5459, -0.4328, -0.8338]]])\n"
     ]
    },
    {
     "data": {
      "text/plain": [
       "tensor([[[-0.3487, -1.5079,  0.2624],\n",
       "         [-0.3861,  0.1481, -0.8851],\n",
       "         [-1.4051,  0.3500, -0.4543],\n",
       "         [ 0.9531,  1.2678,  0.2727]]])"
      ]
     },
     "execution_count": 21,
     "metadata": {},
     "output_type": "execute_result"
    }
   ],
   "source": [
    "import torch\n",
    "import numpy as np\n",
    "from torch.autograd import Variable\n",
    "import torch.nn as nn\n",
    "import torch.optim as optim\n",
    "embedding = nn.Embedding(10, 3)\n",
    "output = Variable(torch.LongTensor([[0,1,2,3,4,5,6,7,8,9]]))\n",
    "print(embedding(output))\n",
    "input = Variable(torch.LongTensor([[4,2,1,5]]))\n",
    "embedding(input)\n"
   ]
  },
  {
   "cell_type": "code",
   "execution_count": 89,
   "metadata": {},
   "outputs": [],
   "source": [
    "class Embed(nn.Module):\n",
    "    def __init__(self):\n",
    "        super(Embed,self).__init__()\n",
    "        self.embed = nn.Embedding(10,3)\n",
    "        self.line = nn.Linear(3,2)\n",
    "    def forward(self,sentence):\n",
    "        myembed = self.embed(sentence)\n",
    "        ans = self.line(myembed)\n",
    "        return myembed  "
   ]
  },
  {
   "cell_type": "code",
   "execution_count": 90,
   "metadata": {},
   "outputs": [
    {
     "name": "stdout",
     "output_type": "stream",
     "text": [
      "tensor([[[ 0.0444, -0.2638, -0.4348],\n",
      "         [ 0.3070, -0.4930, -2.1831],\n",
      "         [ 0.7272,  1.8762,  0.0585],\n",
      "         [-0.9581,  0.9933,  0.9878],\n",
      "         [ 1.3147, -0.5860,  0.1060],\n",
      "         [-0.1308, -0.6369, -0.1040],\n",
      "         [ 0.9592, -1.7291,  0.0919],\n",
      "         [ 0.0907,  0.3733,  0.2104],\n",
      "         [-0.2161,  1.2967,  0.2621],\n",
      "         [ 0.3068,  0.5279, -0.1643]]])\n"
     ]
    }
   ],
   "source": [
    "mynet= Embed()\n",
    "loss_function = nn.CrossEntropyLoss()\n",
    "optimizer = optim.Adam(mynet.parameters(), lr=0.01)\n",
    "output = Variable(torch.LongTensor([[0,1,2,3,4,5,6,7,8,9]]))\n",
    "input = Variable(torch.LongTensor([[0,1,2,3]]))\n",
    "print(mynet(output))\n",
    "for epcho in range(10):\n",
    "    out = mynet(input)\n",
    "    "
   ]
  },
  {
   "cell_type": "code",
   "execution_count": 94,
   "metadata": {},
   "outputs": [
    {
     "name": "stdout",
     "output_type": "stream",
     "text": [
      "tensor([ 1,  1,  1])\n"
     ]
    }
   ],
   "source": [
    "y = np.ones(3)\n",
    "y = torch.from_numpy(y).long()\n",
    "print(y)"
   ]
  },
  {
   "cell_type": "code",
   "execution_count": 96,
   "metadata": {},
   "outputs": [
    {
     "name": "stdout",
     "output_type": "stream",
     "text": [
      "tensor([[[ 0.0444, -0.2638, -0.4348],\n",
      "         [ 0.3070, -0.4930, -2.1831],\n",
      "         [ 0.7272,  1.8762,  0.0585],\n",
      "         [-0.9581,  0.9933,  0.9878],\n",
      "         [ 1.1153, -0.7849, -0.0929],\n",
      "         [ 0.0686, -0.4379,  0.0949],\n",
      "         [ 0.7598, -1.9281, -0.1070],\n",
      "         [-0.1087,  0.1744,  0.0116],\n",
      "         [-0.2161,  1.2967,  0.2621],\n",
      "         [ 0.3068,  0.5279, -0.1643]]])\n"
     ]
    }
   ],
   "source": [
    "\n",
    "input = Variable(torch.LongTensor([[4,5,6,7]]))\n",
    "for epcho in range(10):\n",
    "    out2 = mynet(input)\n",
    "    y = y.reshape(1,3)\n",
    "   # print(y)\n",
    "    #print(out2)\n",
    "    loss = loss_function(out2,y)\n",
    "    optimizer.zero_grad()\n",
    "    loss.backward()\n",
    "    optimizer.step()\n",
    "    \n",
    "print(mynet(output))"
   ]
  }
 ],
 "metadata": {
  "kernelspec": {
   "display_name": "Python 3",
   "language": "python",
   "name": "python3"
  },
  "language_info": {
   "codemirror_mode": {
    "name": "ipython",
    "version": 3
   },
   "file_extension": ".py",
   "mimetype": "text/x-python",
   "name": "python",
   "nbconvert_exporter": "python",
   "pygments_lexer": "ipython3",
   "version": "3.6.8"
  }
 },
 "nbformat": 4,
 "nbformat_minor": 2
}
