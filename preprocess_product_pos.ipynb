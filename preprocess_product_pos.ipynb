{
 "cells": [
  {
   "cell_type": "code",
   "execution_count": 8,
   "metadata": {},
   "outputs": [],
   "source": [
    "MAX_SENTENCE_LEN = 155\n",
    "MAX_DIS = 1000"
   ]
  },
  {
   "cell_type": "code",
   "execution_count": 23,
   "metadata": {},
   "outputs": [],
   "source": [
    "drugA = []\n",
    "drugB = []\n",
    "lineid = 0\n",
    "#with open(\"data_mid/train_text.txt\",\"r\") as f:\n",
    "with open(\"data_mid/test_text.txt\",\"r\") as f:\n",
    "    for line in f:\n",
    "        numA = 0\n",
    "        numB = 0\n",
    "        words = line.split()\n",
    "        for i,word in enumerate(words):\n",
    "            if(word == \"druga\"):\n",
    "                drugA.append(i)\n",
    "                numA +=1\n",
    "            if (word == \"drugb\"):\n",
    "                drugB.append(i)\n",
    "                numB +=1\n",
    "        if(numA != 1 or numB != 1):\n",
    "            print(line)\n",
    "        "
   ]
  },
  {
   "cell_type": "code",
   "execution_count": 10,
   "metadata": {},
   "outputs": [
    {
     "ename": "FileNotFoundError",
     "evalue": "[Errno 2] No such file or directory: 'input_label.txt'",
     "output_type": "error",
     "traceback": [
      "\u001b[0;31m---------------------------------------------------------------------------\u001b[0m",
      "\u001b[0;31mFileNotFoundError\u001b[0m                         Traceback (most recent call last)",
      "\u001b[0;32m<ipython-input-10-ed8b7425377f>\u001b[0m in \u001b[0;36m<module>\u001b[0;34m\u001b[0m\n\u001b[1;32m      1\u001b[0m \u001b[0mlabel\u001b[0m \u001b[0;34m=\u001b[0m \u001b[0;34m{\u001b[0m\u001b[0;34m}\u001b[0m\u001b[0;34m\u001b[0m\u001b[0;34m\u001b[0m\u001b[0m\n\u001b[0;32m----> 2\u001b[0;31m \u001b[0;32mwith\u001b[0m \u001b[0mopen\u001b[0m\u001b[0;34m(\u001b[0m\u001b[0;34m\"input_label.txt\"\u001b[0m\u001b[0;34m,\u001b[0m\u001b[0;34m\"r\"\u001b[0m\u001b[0;34m)\u001b[0m \u001b[0;32mas\u001b[0m \u001b[0mf\u001b[0m\u001b[0;34m:\u001b[0m\u001b[0;34m\u001b[0m\u001b[0;34m\u001b[0m\u001b[0m\n\u001b[0m\u001b[1;32m      3\u001b[0m     \u001b[0mi\u001b[0m \u001b[0;34m=\u001b[0m \u001b[0;36m0\u001b[0m\u001b[0;34m\u001b[0m\u001b[0;34m\u001b[0m\u001b[0m\n\u001b[1;32m      4\u001b[0m     \u001b[0;32mfor\u001b[0m \u001b[0mline\u001b[0m \u001b[0;32min\u001b[0m \u001b[0mf\u001b[0m\u001b[0;34m:\u001b[0m\u001b[0;34m\u001b[0m\u001b[0;34m\u001b[0m\u001b[0m\n\u001b[1;32m      5\u001b[0m         \u001b[0mwords\u001b[0m \u001b[0;34m=\u001b[0m \u001b[0mline\u001b[0m\u001b[0;34m.\u001b[0m\u001b[0msplit\u001b[0m\u001b[0;34m(\u001b[0m\u001b[0;34m)\u001b[0m\u001b[0;34m\u001b[0m\u001b[0;34m\u001b[0m\u001b[0m\n",
      "\u001b[0;31mFileNotFoundError\u001b[0m: [Errno 2] No such file or directory: 'input_label.txt'"
     ]
    }
   ],
   "source": [
    "'''\n",
    "label = {}\n",
    "with open(\"input_label.txt\",\"r\") as f:\n",
    "    i = 0\n",
    "    for line in f:\n",
    "        words = line.split()\n",
    "        label[i] = int(words[0])\n",
    "        i += 1\n",
    "'''"
   ]
  },
  {
   "cell_type": "code",
   "execution_count": 21,
   "metadata": {},
   "outputs": [],
   "source": [
    "'''change it'''\n",
    "out_text= open(\"data_mid/test_text.txt\",\"w\")\n",
    "out_label = open(\"data_mid/test_label.txt\",\"w\")\n",
    "lineid = 0\n",
    "with open(\"data_mid/test.txt\",\"r\") as f:\n",
    "    for line in f:\n",
    "        if(lineid % 2 == 0):\n",
    "            out_text.write(line)\n",
    "        else:out_label.write(line)\n",
    "        lineid += 1\n"
   ]
  },
  {
   "cell_type": "code",
   "execution_count": 24,
   "metadata": {},
   "outputs": [],
   "source": [
    "''' change test to train'''\n",
    "foutA = open(\"data_mid/test_pos_A.txt\",\"w\")\n",
    "foutB = open(\"data_mid/test_pos_B.txt\",\"w\")\n",
    "with open(\"data_mid/test_text.txt\",\"r\") as f:\n",
    "    for j,line in enumerate(f):\n",
    "        words = line.split()\n",
    "        for i,word in enumerate(words):\n",
    "           # print(j)\n",
    "            foutA.write(str(i - drugA[j]) + \" \")\n",
    "            foutB.write(str(i - drugB[j] )+ \" \")\n",
    "        for i in range(len(words),MAX_SENTENCE_LEN):\n",
    "            foutA.write(str(MAX_DIS) + \" \")\n",
    "            foutB.write(str(MAX_DIS) + \" \")\n",
    "        foutA.write(\"\\n\")\n",
    "        foutB.write(\"\\n\")"
   ]
  },
  {
   "cell_type": "code",
   "execution_count": 36,
   "metadata": {},
   "outputs": [
    {
     "name": "stdout",
     "output_type": "stream",
     "text": [
      "27762\n",
      "27762\n"
     ]
    }
   ],
   "source": [
    "print(len(drugB))\n",
    "print(len(drugA))"
   ]
  },
  {
   "cell_type": "code",
   "execution_count": 12,
   "metadata": {},
   "outputs": [
    {
     "name": "stdout",
     "output_type": "stream",
     "text": [
      "155\n"
     ]
    }
   ],
   "source": [
    "mywords = []\n",
    "with open(\"data_mid/train_pos_A.txt\",\"r\") as f:\n",
    "    for line in f:\n",
    "        words = line.split()\n",
    "        print(len(words))\n",
    "        break\n",
    "        \n"
   ]
  },
  {
   "cell_type": "code",
   "execution_count": 5,
   "metadata": {},
   "outputs": [
    {
     "name": "stdout",
     "output_type": "stream",
     "text": [
      "1461065\n",
      "148\n"
     ]
    }
   ],
   "source": [
    "mywords.sort()\n",
    "print(len(mywords))\n",
    "\n",
    "print(mywords[1461064])#145 148"
   ]
  }
 ],
 "metadata": {
  "kernelspec": {
   "display_name": "Python 3",
   "language": "python",
   "name": "python3"
  },
  "language_info": {
   "codemirror_mode": {
    "name": "ipython",
    "version": 3
   },
   "file_extension": ".py",
   "mimetype": "text/x-python",
   "name": "python",
   "nbconvert_exporter": "python",
   "pygments_lexer": "ipython3",
   "version": "3.6.8"
  }
 },
 "nbformat": 4,
 "nbformat_minor": 2
}
